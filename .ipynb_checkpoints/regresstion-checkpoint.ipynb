{
 "cells": [
  {
   "cell_type": "code",
   "execution_count": 1,
   "metadata": {},
   "outputs": [],
   "source": [
    "import pandas as pd\n",
    "import numpy as np"
   ]
  },
  {
   "cell_type": "code",
   "execution_count": 24,
   "metadata": {},
   "outputs": [],
   "source": [
    "dataset = pd.read_csv('./dataset/winequality_red.csv', encoding='utf_8_sig')\n",
    "\n",
    "label = dataset.iloc[:,-1]\n",
    "dataset = dataset.iloc[:,:-1]"
   ]
  },
  {
   "cell_type": "code",
   "execution_count": 3,
   "metadata": {},
   "outputs": [],
   "source": [
    "from sklearn.model_selection import train_test_split\n",
    "from sklearn.metrics import explained_variance_score, mean_squared_error, mean_absolute_error, r2_score"
   ]
  },
  {
   "cell_type": "code",
   "execution_count": 4,
   "metadata": {},
   "outputs": [],
   "source": [
    "X_train, X_test, y_train, y_test = train_test_split(dataset, label, test_size=0.3, random_state=42)"
   ]
  },
  {
   "cell_type": "markdown",
   "metadata": {},
   "source": [
    "## Linear Regression\n",
    "\n",
    "통계학에서, 선형 회귀(linear regression)는 종속 변수 y와 한 개 이상의 독립 변수 (또는 설명 변수) X와의 선형 상관 관계를 모델링하는 회귀분석 기법이다. 한 개의 설명 변수에 기반한 경우에는 단순 선형 회귀, 둘 이상의 설명 변수에 기반한 경우에는 다중 선형 회귀라고 한다.\n",
    "\n",
    "선형 회귀는 선형 예측 함수를 사용해 회귀식을 모델링하며, 알려지지 않은 파라미터는 데이터로부터 추정한다. 이렇게 만들어진 회귀식을 선형 모델이라고 한다.\n",
    "선형 회귀는 깊이있게 연구되고 널리 사용된 첫 번째 회귀분석 기법이다. 이는 알려지지 않은 파라미터에 대해 선형 관계를 갖는 모델을 세우는 것이, 비선형 관계를 갖는 모델을 세우는 것보다 용이하기 때문이다.여러 사용 사례가 있지만, 대개 아래와 같은 두 가지 분류 중 하나로 요약할 수 있다.\n",
    "\n",
    "값을 예측하는 것이 목적일 경우, 선형 회귀를 사용해 데이터에 적합한 예측 모형을 개발한다. 개발한 선형 회귀식을 사용해 y가 없는 x값에 대해 y를 예측하기 위해 사용할 수 있다.\n",
    "종속 변수 y와 이것과 연관된 독립 변수 X1, ..., Xp가 존재하는 경우에, 선형 회귀 분석을 사용해 Xj와 y의 관계를 정량화할 수 있다. Xj는 y와 전혀 관계가 없을 수도 있고, 추가적인 정보를 제공하는 변수일 수도 있다.\n",
    "일반적으로 최소제곱법(least square method)을 사용해 선형 회귀 모델을 세운다. 최소제곱법 외에 다른 기법으로도 선형 회귀 모델을 세울 수 있다. 손실 함수(loss fuction)를 최소화 하는 방식으로 선형 회귀 모델을 세울 수도 있다. 최소제곱법은 선형 회귀 모델 뿐 아니라, 비선형 회귀 모델에도 적용할 수 있다. 최소제곱법과 선형 회귀는 가깝게 연관되어 있지만, 그렇다고 해서 동의어는 아니다.  \n",
    "출처 : https://ko.wikipedia.org/wiki/%EC%84%A0%ED%98%95_%ED%9A%8C%EA%B7%80 "
   ]
  },
  {
   "cell_type": "code",
   "execution_count": 5,
   "metadata": {},
   "outputs": [],
   "source": [
    "from sklearn import linear_model\n",
    "\n",
    "Linear = linear_model.LinearRegression()\n",
    "Linear.fit(X_train,y_train)\n",
    "y_pred = Linear.predict(X_test)"
   ]
  },
  {
   "cell_type": "code",
   "execution_count": 6,
   "metadata": {},
   "outputs": [
    {
     "name": "stdout",
     "output_type": "stream",
     "text": [
      "[ 2.34704718e-02 -1.09961969e+00 -2.47859776e-01  7.73785620e-03\n",
      " -1.67359251e+00  4.55041815e-03 -3.26389168e-03 -1.42395563e+01\n",
      " -3.19247444e-01  8.12824701e-01  2.91991158e-01]\n",
      "17.96257834335607\n"
     ]
    }
   ],
   "source": [
    "print(Linear.coef_)\n",
    "print(Linear.intercept_)"
   ]
  },
  {
   "cell_type": "code",
   "execution_count": 7,
   "metadata": {},
   "outputs": [
    {
     "name": "stdout",
     "output_type": "stream",
     "text": [
      "explained_variance_score: 0.35164491095572137\n",
      "mean_squared_errors: 0.41123487174964946\n",
      "r2_score: 0.3513885332517389\n"
     ]
    }
   ],
   "source": [
    "print('explained_variance_score: {}'.format(explained_variance_score(y_test, y_pred)))\n",
    "print('mean_squared_errors: {}'.format(mean_squared_error(y_test, y_pred)))\n",
    "print('r2_score: {}'.format(r2_score(y_test, y_pred)))"
   ]
  },
  {
   "cell_type": "markdown",
   "metadata": {},
   "source": [
    "## Regularizor\n",
    "\n",
    "머신러닝을 잘 학습시킨다는 것은 최적화와 일반화 사이의 줄다리기라고 할 수 있다. 최적화 (optimization)란 훈련 데이터에서 최고의 성능을 얻기 위해 모델을 조정하는 과정을 말한다. 일반화 (generalization)는 학습된 모델이 새로운 데이터에 대해 얼마나 잘 수행하는지를 의미한다.\n",
    "\n",
    "일반적으로 머신러닝을 학습하면서 과소/과대 적합이라는 문제가 발생한다.\n",
    "과소적합 (underfitting)은 훈련 데이터의 손실이 낮아질수록 검증 데이터의 손실도 낮아지는 단계를 말한다.\n",
    "과대적합 (overfitting)은 훈련 데이터의 손실은 낮아지지만 검증 세트의 손실이 증가하게 되는 상황을 말한다. 훈련 데이터에 특화된 패턴을 학습하기 시작했다는 의미이다.\n",
    "\n",
    "과대적합을 방지하기 위해서 가장 좋은 방법은 더 많은 잘 정돈된 훈련 데이터를 모으는 것이다. 이 때 데이터를 더 모으는 것이 불가능할 때도 있다. 이런 상황에서 모델이 훈련 데이터에서 학습할 수 있는 패턴에 제약을 가해 과대적합을 피할 수 있는데, 이를 규제(regularization) 라고 한다.\n",
    "\n",
    "과대적합을 완화하기 위한 방법은 네트워크의 복잡도에 제한을 두어 가중치가 작은 값을 가지도록 제약을 가하는 것이다. 가중치를 작게 만든다는 것은 특정값(outlier 등)의 영향을 적게 받도록 해줌으로써, 결과적으로 일반화에 적합한 특성을 갖게 만드는 것이라 할 수 있다.\n",
    "이를 가중치 규제 (weight regularization)라고 하며, 네트워크의 손실함수에 큰 가중치에 연관된 비용을 추가하는 데, 두 가지 형태의 비용이 있다.\n",
    "L1 규제 : 가중치의 절대값에 비례하는 비용이 추가된다(가중치의 L1 Norm). \n",
    "L2 규제 : 가중치의 제곱에 비례하는 비용이 추가된다(가중치의 L2 Norm).\n",
    "\n",
    "앞서 말한 것과 같이 과대적합을 방지하기 위해 기존의 손실함수에서 정규화항을 추가하게 되는데, 이를 가중치 규제라고 한다. 이 때 추가되는 항에 따라 회귀 모형의 종류가 달라진다.\n",
    "\n",
    "그럼 언제 어떤 모델을 사용해야할까?\n",
    "일반적으로는 규제항을 추가한 모델이 그렇지 않은 모델보다는 높은 성능을 보이고 있다. Ridge가 기본으로 쓰이고 있지만, 실제로 쓰이는 특성이 적다고 판단되는 경우에는 Lasso나 Elastic Net 모형이 일반적으로 더 많이 쓰입니다. 이는 앞서 말한것과 같이 불필요한 가중치를 0으로 만들어주는 것과 연관되어 있습니다. 또한 특성 수가 훈련샘플 수보다 많거나, 특성 몇 개가 강한 연관관계를 보일때에는 Elastic Net 모형을 선호한다."
   ]
  },
  {
   "cell_type": "markdown",
   "metadata": {},
   "source": [
    "## Lasso Regression\n",
    "\n",
    "Lasso Regression의 경우 규제항 자리에 가중치에 대한 L1 Norm을 추가한 선형회귀 버전이다. 특징은 덜 중요한 특성의 가중치를 완전히 제거하려고 한다는 점이다. 즉 다시 말해 자동으로 특성을 선택하고, 희소모델을 만든다."
   ]
  },
  {
   "cell_type": "code",
   "execution_count": 8,
   "metadata": {},
   "outputs": [],
   "source": [
    "from sklearn import linear_model\n",
    "\n",
    "Lasso = linear_model.Lasso(alpha=0.1)\n",
    "Lasso.fit(X_train,y_train)\n",
    "y_pred = Lasso.predict(X_test)"
   ]
  },
  {
   "cell_type": "code",
   "execution_count": 9,
   "metadata": {},
   "outputs": [
    {
     "name": "stdout",
     "output_type": "stream",
     "text": [
      "[ 0.01752463 -0.          0.          0.         -0.          0.00632277\n",
      " -0.00412139 -0.         -0.          0.          0.26512127]\n",
      "2.80741030175525\n"
     ]
    }
   ],
   "source": [
    "print(Lasso.coef_)\n",
    "print(Lasso.intercept_)"
   ]
  },
  {
   "cell_type": "code",
   "execution_count": 10,
   "metadata": {},
   "outputs": [
    {
     "name": "stdout",
     "output_type": "stream",
     "text": [
      "explained_variance_score: 0.21084461308434832\n",
      "mean_squared_errors: 0.5015893646134156\n",
      "r2_score: 0.20887882853160988\n"
     ]
    }
   ],
   "source": [
    "print('explained_variance_score: {}'.format(explained_variance_score(y_test, y_pred)))\n",
    "print('mean_squared_errors: {}'.format(mean_squared_error(y_test, y_pred)))\n",
    "print('r2_score: {}'.format(r2_score(y_test, y_pred)))"
   ]
  },
  {
   "cell_type": "markdown",
   "metadata": {},
   "source": [
    "## Ridge Regression\n",
    "\n",
    "Ridge Regression의 경우 규제항 자리에 가중치에 대한 L2 Norm을 추가한 선형회귀 버전이다. alpha값을 증가시킬수록 모델의 분산은 커지고, 감소시킬수록 모델의 분산은 줄지만 편향을 커지게 된다."
   ]
  },
  {
   "cell_type": "code",
   "execution_count": 11,
   "metadata": {},
   "outputs": [],
   "source": [
    "from sklearn.linear_model import Ridge\n",
    "\n",
    "Ridge = linear_model.Ridge(alpha=0.1)\n",
    "Ridge.fit(X_train,y_train)\n",
    "y_pred = Ridge.predict(X_test)"
   ]
  },
  {
   "cell_type": "code",
   "execution_count": 12,
   "metadata": {},
   "outputs": [
    {
     "name": "stdout",
     "output_type": "stream",
     "text": [
      "[ 1.12502795e-02 -1.11133625e+00 -2.52900014e-01  1.47211579e-03\n",
      " -1.60012884e+00  4.68812574e-03 -3.28105780e-03 -9.47405448e-02\n",
      " -3.80414071e-01  7.82195581e-01  3.05794163e-01]\n",
      "4.059738852904075\n"
     ]
    }
   ],
   "source": [
    "print(Ridge.coef_)\n",
    "print(Ridge.intercept_)"
   ]
  },
  {
   "cell_type": "code",
   "execution_count": 13,
   "metadata": {},
   "outputs": [
    {
     "name": "stdout",
     "output_type": "stream",
     "text": [
      "explained_variance_score: 0.35080842180499405\n",
      "mean_squared_errors: 0.41178016754425534\n",
      "r2_score: 0.35052847704189904\n"
     ]
    }
   ],
   "source": [
    "print('explained_variance_score: {}'.format(explained_variance_score(y_test, y_pred)))\n",
    "print('mean_squared_errors: {}'.format(mean_squared_error(y_test, y_pred)))\n",
    "print('r2_score: {}'.format(r2_score(y_test, y_pred)))"
   ]
  },
  {
   "cell_type": "code",
   "execution_count": null,
   "metadata": {},
   "outputs": [],
   "source": []
  },
  {
   "cell_type": "markdown",
   "metadata": {},
   "source": [
    "## Feature Extraction Method\n",
    "- Wrapper Method\n",
    "1. Forward Selection\n",
    "2. Backward Selection\n",
    "3. Stepwise Selection"
   ]
  },
  {
   "cell_type": "code",
   "execution_count": 14,
   "metadata": {},
   "outputs": [],
   "source": [
    "import statsmodels.api as sm"
   ]
  },
  {
   "cell_type": "markdown",
   "metadata": {},
   "source": [
    "### 1. Forward Selection\n",
    "\n",
    "모델에 변수를 하나씩 추가해 나가면서 best subset을 찾아가는 방법이다. 이 모델에서는 한번 추가된 변수는 제거가 불가능하다는 단점이 있다. 먼저 추가된 변수에 의해 best model을 놓치는 경우가 발생할 수 있으며, 변수가 모델에 추가되는 순서가 중요한 방식이다.\n",
    "\n",
    "[Process]  \n",
    "  1. Model 상에서 boundary로 정할 Significance level을 정한다.\n",
    "  2. 각각의 변수별로 Simple Linear Regression을 수행한다. 이 때 Simple Linear Regression이란 각 변수 하나만 놓고 단항으로 Linear Regression을 수행하라는 것이다.\n",
    "  3. 각 변수에 대한 p-value를 비교한 후, p-value가 가장 낮은 변수를 선정한다. \n",
    "  4. 해당 변수를 놔둔 상태에서 나머지 변수들을 추가하면서 다시 학습을 시킨다. 이때 p-value가 SL보다 높을 경우 해당 과정을 종료한다. 이 때 종료한 상태는 이미 p-value가 높은 변수가 반영되어 있는 모델이므로 해당 변수를 학습시키기 이전 model을 선택한다.\n",
    "  5. 변수를 하나씩 추가하면서 다시 학습시키고 4번 과정을 수행한다."
   ]
  },
  {
   "cell_type": "code",
   "execution_count": 15,
   "metadata": {},
   "outputs": [],
   "source": [
    "def forward_selection(data, target, significance_level=0.05):\n",
    "    initial_features = data.columns.tolist()\n",
    "    best_features = []\n",
    "    while (len(list(initial_features))>0):\n",
    "        remaining_features = list(set(initial_features)-set(best_features))\n",
    "        new_pval = pd.Series(index=remaining_features)\n",
    "        for new_column in remaining_features:\n",
    "            model = sm.OLS(target, sm.add_constant(data[best_features+[new_column]])).fit()\n",
    "            new_pval[new_column] = model.pvalues[new_column]\n",
    "        min_p_value = new_pval.min()\n",
    "        if(min_p_value<significance_level):\n",
    "            best_features.append(new_pval.idxmin())\n",
    "        else:\n",
    "            break\n",
    "    return best_features"
   ]
  },
  {
   "cell_type": "code",
   "execution_count": 16,
   "metadata": {},
   "outputs": [
    {
     "name": "stderr",
     "output_type": "stream",
     "text": [
      "C:\\Users\\Gene\\Anaconda3\\envs\\torch\\lib\\site-packages\\numpy\\core\\fromnumeric.py:2389: FutureWarning: Method .ptp is deprecated and will be removed in a future version. Use numpy.ptp instead.\n",
      "  return ptp(axis=axis, out=out, **kwargs)\n"
     ]
    },
    {
     "data": {
      "text/plain": [
       "['alcohol',\n",
       " 'volatile acidity',\n",
       " 'sulphates',\n",
       " 'total sulfur dioxide',\n",
       " 'chlorides',\n",
       " 'pH',\n",
       " 'free sulfur dioxide']"
      ]
     },
     "execution_count": 16,
     "metadata": {},
     "output_type": "execute_result"
    }
   ],
   "source": [
    "forward_selection(X_train,y_train)"
   ]
  },
  {
   "cell_type": "code",
   "execution_count": null,
   "metadata": {},
   "outputs": [],
   "source": []
  },
  {
   "cell_type": "markdown",
   "metadata": {},
   "source": [
    "### 2. Backward Elimination\n",
    "\n",
    "forward selection과 다르게 모델에 변수를 하나씩 제거해나가면서 best subset을 찾아가는 방법이다. 동일한 원리로 모델에서 한번 제거된 변수는 다시 추가가 불가능하다.\n",
    "\n",
    "[Process]\n",
    "  1. Model 상에서 boundary로 정할 Significance level(유의수준)을 정한다. (예 SL = 0.05) 이 Significance level(SL)은 보통 우리가 뉴스에서 나오는 설문조사에서 꼭 나오는 p-value(신뢰도)와 반대되는 개념이다. (p-value = 1 - SL) 다시 말해 우리가 정한 SL보다 높은 수치가 나온다는 말은 그만큼 신뢰할 수 없다는 뜻으로 해석할 수 있다.\n",
    "  2. 모든 변수들을 넣고 학습을 시킨후 각 변수별 p-value를 비교한다. 이중 p-value가 가장 높은 변수를 선정한다.\n",
    "  3. 해당 변수의 p-value가 SL보다 높은 경우 해당 변수를 제거한다. 만약 남아있는 모든 변수들의 p-value가 SL보다 낮을 경우 해당 과정을 종료한다.\n",
    "  4. 변수를 제거한 상태에서 다시 학습을 시키고 2번 과정을 다시 수행한다."
   ]
  },
  {
   "cell_type": "code",
   "execution_count": 17,
   "metadata": {},
   "outputs": [],
   "source": [
    "def backward_elimination(data, target,significance_level = 0.05):\n",
    "    features = data.columns.tolist()\n",
    "    while(len(features)>0):\n",
    "        features_with_constant = sm.add_constant(data[features])\n",
    "        p_values = sm.OLS(target, features_with_constant).fit().pvalues[1:]\n",
    "        max_p_value = p_values.max()\n",
    "        if(max_p_value >= significance_level):\n",
    "            excluded_feature = p_values.idxmax()\n",
    "            features.remove(excluded_feature)\n",
    "        else:\n",
    "            break \n",
    "    return features"
   ]
  },
  {
   "cell_type": "code",
   "execution_count": 18,
   "metadata": {},
   "outputs": [
    {
     "data": {
      "text/plain": [
       "['volatile acidity',\n",
       " 'chlorides',\n",
       " 'free sulfur dioxide',\n",
       " 'total sulfur dioxide',\n",
       " 'pH',\n",
       " 'sulphates',\n",
       " 'alcohol']"
      ]
     },
     "execution_count": 18,
     "metadata": {},
     "output_type": "execute_result"
    }
   ],
   "source": [
    "backward_elimination(X_train,y_train)"
   ]
  },
  {
   "cell_type": "markdown",
   "metadata": {},
   "source": [
    "### 3. Stepwise Selection\n",
    "\n",
    "단계별 선택법은 forward와 backward의 혼합 버전이다. 각각이 가지고 있는 단점을 보완하기 때문에 유용하게 사용되는 방법이다.\n",
    "\n",
    "[Process]\n",
    "  1. 변수를 넣거나 제거할 때 boundary로 사용할 Significance level을 정한다. (SL_Enter, SL_Stay)\n",
    "  2. Forward Selection을 수행해서 변수를 선정한다.\n",
    "  3. Backward Selection을 수행해서 선정된 변수 중 유의미한 변수만 남기고 제거한다.\n",
    "  그리고 2번 과정을 다시 수행한다.\n",
    "  4. 변수가 추가되거나 제거할 케이스가 없는 경우 종료"
   ]
  },
  {
   "cell_type": "code",
   "execution_count": 19,
   "metadata": {},
   "outputs": [],
   "source": [
    "def stepwise_selection(data, target,SL_in=0.05,SL_out = 0.05):\n",
    "    initial_features = data.columns.tolist()\n",
    "    best_features = []\n",
    "    while (len(list(initial_features))>0):\n",
    "        remaining_features = list(set(initial_features)-set(best_features))\n",
    "        new_pval = pd.Series(index=remaining_features)\n",
    "        for new_column in remaining_features:\n",
    "            model = sm.OLS(target, sm.add_constant(data[best_features+[new_column]])).fit()\n",
    "            new_pval[new_column] = model.pvalues[new_column]\n",
    "        min_p_value = new_pval.min()\n",
    "        if(min_p_value<SL_in):\n",
    "            best_features.append(new_pval.idxmin())\n",
    "            while(len(best_features)>0):\n",
    "                best_features_with_constant = sm.add_constant(data[best_features])\n",
    "                p_values = sm.OLS(target, best_features_with_constant).fit().pvalues[1:]\n",
    "                max_p_value = p_values.max()\n",
    "                if(max_p_value >= SL_out):\n",
    "                    excluded_feature = p_values.idxmax()\n",
    "                    best_features.remove(excluded_feature)\n",
    "                else:\n",
    "                    break \n",
    "        else:\n",
    "            break\n",
    "    return best_features"
   ]
  },
  {
   "cell_type": "code",
   "execution_count": 20,
   "metadata": {},
   "outputs": [
    {
     "data": {
      "text/plain": [
       "['alcohol',\n",
       " 'volatile acidity',\n",
       " 'sulphates',\n",
       " 'total sulfur dioxide',\n",
       " 'chlorides',\n",
       " 'pH',\n",
       " 'free sulfur dioxide']"
      ]
     },
     "execution_count": 20,
     "metadata": {},
     "output_type": "execute_result"
    }
   ],
   "source": [
    "stepwise_selection(X_train,y_train)"
   ]
  },
  {
   "cell_type": "code",
   "execution_count": null,
   "metadata": {},
   "outputs": [],
   "source": []
  },
  {
   "cell_type": "code",
   "execution_count": 21,
   "metadata": {},
   "outputs": [
    {
     "data": {
      "text/plain": [
       "SequentialFeatureSelector(clone_estimator=True, cv=0,\n",
       "                          estimator=LinearRegression(copy_X=True,\n",
       "                                                     fit_intercept=True,\n",
       "                                                     n_jobs=None,\n",
       "                                                     normalize=False),\n",
       "                          floating=False, forward=True, k_features=(3, 11),\n",
       "                          n_jobs=1, pre_dispatch='2*n_jobs', scoring=None,\n",
       "                          verbose=0)"
      ]
     },
     "execution_count": 21,
     "metadata": {},
     "output_type": "execute_result"
    }
   ],
   "source": [
    "from mlxtend.feature_selection import SequentialFeatureSelector as SFS\n",
    "from sklearn.linear_model import LinearRegression\n",
    "\n",
    "sfs1 = SFS(LinearRegression(), \n",
    "          k_features=(3,11), \n",
    "          forward=True, \n",
    "          floating=False,\n",
    "          cv=0)\n",
    "sfs1.fit(X_train, y_train)"
   ]
  },
  {
   "cell_type": "code",
   "execution_count": 23,
   "metadata": {},
   "outputs": [
    {
     "data": {
      "image/png": "[encoded data removed]",
      "text/plain": [
       "<Figure size 432x288 with 1 Axes>"
      ]
     },
     "metadata": {
      "needs_background": "light"
     },
     "output_type": "display_data"
    }
   ],
   "source": [
    "from mlxtend.plotting import plot_sequential_feature_selection as plot_sfs\n",
    "import matplotlib.pyplot as plt\n",
    "fig1 = plot_sfs(sfs1.get_metric_dict(), kind='std_dev')\n",
    "plt.title('Sequential Forward Selection (w. StdErr)')\n",
    "plt.grid()"
   ]
  },
  {
   "cell_type": "code",
   "execution_count": null,
   "metadata": {},
   "outputs": [],
   "source": []
  }
 ],
 "metadata": {
  "kernelspec": {
   "display_name": "torch",
   "language": "python",
   "name": "torch"
  },
  "language_info": {
   "codemirror_mode": {
    "name": "ipython",
    "version": 3
   },
   "file_extension": ".py",
   "mimetype": "text/x-python",
   "name": "python",
   "nbconvert_exporter": "python",
   "pygments_lexer": "ipython3",
   "version": "3.7.4"
  }
 },
 "nbformat": 4,
 "nbformat_minor": 4
}
