{
 "cells": [
  {
   "cell_type": "code",
   "execution_count": 2,
   "metadata": {},
   "outputs": [],
   "source": [
    "import numpy as np \n",
    "import pandas as pd\n"
   ]
  },
  {
   "cell_type": "markdown",
   "metadata": {},
   "source": [
    "### 2. Pandas 자료구조\n",
    "Pandas에서는 기본적으로 정의되는 자료구조인 Series와 Data Frame을 사용합니다.\n",
    "\n",
    "#### 2-1. Series\n",
    "먼저 Series에 대해서 알아보도록 하겠습니다. Series는 numpy의 array, python의 list와 유사한 성격을 가진 형태로 일련의 데이터를 저장할 수 있는 공간입니다."
   ]
  },
  {
   "cell_type": "code",
   "execution_count": 8,
   "metadata": {},
   "outputs": [
    {
     "name": "stdout",
     "output_type": "stream",
     "text": [
      "0    4\n",
      "1    7\n",
      "2   -5\n",
      "3    3\n",
      "dtype: int64\n",
      "\n",
      "[ 4  7 -5  3]\n",
      "\n",
      "RangeIndex(start=0, stop=4, step=1)\n",
      "\n",
      "int64\n"
     ]
    }
   ],
   "source": [
    "# Series 정의하기\n",
    "series1 = pd.Series([4, 7, -5, 3])\n",
    "print(series1)\n",
    "print()\n",
    "\n",
    "# Series의 값만 확인하기\n",
    "print(series1.values)\n",
    "print()\n",
    "\n",
    "# Series의 인덱스만 확인하기\n",
    "print(obj.index)\n",
    "print()\n",
    "\n",
    "# Series의 자료형 확인하기\n",
    "print(obj.dtypes)"
   ]
  },
  {
   "cell_type": "code",
   "execution_count": 9,
   "metadata": {},
   "outputs": [
    {
     "name": "stdout",
     "output_type": "stream",
     "text": [
      "d    4\n",
      "b    7\n",
      "a   -5\n",
      "c    3\n",
      "dtype: int64\n"
     ]
    }
   ],
   "source": [
    "# 인덱스의 변경\n",
    "series2 = pd.Series([4, 7, -5, 3], index=['d', 'b', 'a', 'c'])\n",
    "print(series2)"
   ]
  },
  {
   "cell_type": "code",
   "execution_count": 24,
   "metadata": {},
   "outputs": [
    {
     "name": "stdout",
     "output_type": "stream",
     "text": [
      "Kim        35000\n",
      "Beomwoo    67000\n",
      "Joan       12000\n",
      "Choi        4000\n",
      "dtype: int64\n",
      "\n",
      "Names\n",
      "Kim        35000\n",
      "Beomwoo    67000\n",
      "Joan       12000\n",
      "Choi        4000\n",
      "Name: Salary, dtype: int64\n"
     ]
    }
   ],
   "source": [
    "# Dictionary(python) 형태의 자료를 Series(Pandas) 형태로 변환\n",
    "sdata = {'Kim': 35000, 'Beomwoo': 67000, 'Joan': 12000, 'Choi': 4000}\n",
    "obj3 = pd.Series(sdata)\n",
    "print(obj3)\n",
    "print()\n",
    "\n",
    "# 인덱스의 변경\n",
    "obj3.name = 'Salary'\n",
    "obj3.index.name = \"Names\"\n",
    "print(obj3)\n"
   ]
  },
  {
   "cell_type": "markdown",
   "metadata": {},
   "source": [
    "#### 2-2. DataFrame\n",
    "이번에는 DataFrame 대해서 알아보도록 하겠습니다. DataFrame 은 여러개의 Series를 저장할 수 있는 공간입니다.\n",
    "__Data Frame 정의하기__  \n",
    "DataFrame을 생성하기 위해서는 안에 들어갈 데이터를 정의해주어야 하는데, python의 dictionary 또는 numpy의 array로 정의할 수 있다.\n"
   ]
  },
  {
   "cell_type": "code",
   "execution_count": 25,
   "metadata": {},
   "outputs": [
    {
     "name": "stdout",
     "output_type": "stream",
     "text": [
      "      name  year  points\n",
      "0  Beomwoo  2013     1.5\n",
      "1  Beomwoo  2014     1.7\n",
      "2  Beomwoo  2015     3.6\n",
      "3      Kim  2016     2.4\n",
      "4     Park  2015     2.9\n"
     ]
    }
   ],
   "source": [
    "data = {'name': ['Beomwoo', 'Beomwoo', 'Beomwoo', 'Kim', 'Park'],\n",
    "        'year': [2013, 2014, 2015, 2016, 2015],\n",
    "        'points': [1.5, 1.7, 3.6, 2.4, 2.9]}\n",
    "df = pd.DataFrame(data)\n",
    "print(df)"
   ]
  },
  {
   "cell_type": "code",
   "execution_count": 29,
   "metadata": {},
   "outputs": [
    {
     "name": "stdout",
     "output_type": "stream",
     "text": [
      "RangeIndex(start=0, stop=5, step=1, name='Num')\n",
      "\n",
      "Index(['name', 'year', 'points'], dtype='object', name='Info')\n",
      "\n",
      "[['Beomwoo' 2013 1.5]\n",
      " ['Beomwoo' 2014 1.7]\n",
      " ['Beomwoo' 2015 3.6]\n",
      " ['Kim' 2016 2.4]\n",
      " ['Park' 2015 2.9]]\n"
     ]
    }
   ],
   "source": [
    "# 행 방향의 index\n",
    "print(df.index)\n",
    "print()\n",
    "\n",
    "# 열 방향의 index\n",
    "print(df.columns)\n",
    "print()\n",
    "\n",
    "# 값 얻기\n",
    "print(df.values)"
   ]
  },
  {
   "cell_type": "code",
   "execution_count": 27,
   "metadata": {},
   "outputs": [
    {
     "name": "stdout",
     "output_type": "stream",
     "text": [
      "Info     name  year  points\n",
      "Num                        \n",
      "0     Beomwoo  2013     1.5\n",
      "1     Beomwoo  2014     1.7\n",
      "2     Beomwoo  2015     3.6\n",
      "3         Kim  2016     2.4\n",
      "4        Park  2015     2.9\n"
     ]
    }
   ],
   "source": [
    "# 각 인덱스에 대한 이름 설정하기\n",
    "df.index.name = 'Num'\n",
    "df.columns.name = 'Info'\n",
    "print(df)"
   ]
  },
  {
   "cell_type": "code",
   "execution_count": 30,
   "metadata": {},
   "outputs": [
    {
     "name": "stdout",
     "output_type": "stream",
     "text": [
      "       year     name  points penalty\n",
      "one    2013  Beomwoo     1.5     NaN\n",
      "two    2014  Beomwoo     1.7     NaN\n",
      "three  2015  Beomwoo     3.6     NaN\n",
      "four   2016      Kim     2.4     NaN\n",
      "five   2015     Park     2.9     NaN\n"
     ]
    }
   ],
   "source": [
    "# DataFrame을 만들면서 columns와 index를 설정\n",
    "df2 = pd.DataFrame(data, columns=['year', 'name', 'points', 'penalty'],\n",
    "                  index=['one', 'two', 'three', 'four', 'five'])\n",
    "print(df2)"
   ]
  },
  {
   "cell_type": "code",
   "execution_count": 32,
   "metadata": {},
   "outputs": [
    {
     "data": {
      "text/html": [
       "<div>\n",
       "<style scoped>\n",
       "    .dataframe tbody tr th:only-of-type {\n",
       "        vertical-align: middle;\n",
       "    }\n",
       "\n",
       "    .dataframe tbody tr th {\n",
       "        vertical-align: top;\n",
       "    }\n",
       "\n",
       "    .dataframe thead th {\n",
       "        text-align: right;\n",
       "    }\n",
       "</style>\n",
       "<table border=\"1\" class=\"dataframe\">\n",
       "  <thead>\n",
       "    <tr style=\"text-align: right;\">\n",
       "      <th></th>\n",
       "      <th>year</th>\n",
       "      <th>points</th>\n",
       "    </tr>\n",
       "  </thead>\n",
       "  <tbody>\n",
       "    <tr>\n",
       "      <td>count</td>\n",
       "      <td>5.000000</td>\n",
       "      <td>5.000000</td>\n",
       "    </tr>\n",
       "    <tr>\n",
       "      <td>mean</td>\n",
       "      <td>2014.600000</td>\n",
       "      <td>2.420000</td>\n",
       "    </tr>\n",
       "    <tr>\n",
       "      <td>std</td>\n",
       "      <td>1.140175</td>\n",
       "      <td>0.864292</td>\n",
       "    </tr>\n",
       "    <tr>\n",
       "      <td>min</td>\n",
       "      <td>2013.000000</td>\n",
       "      <td>1.500000</td>\n",
       "    </tr>\n",
       "    <tr>\n",
       "      <td>25%</td>\n",
       "      <td>2014.000000</td>\n",
       "      <td>1.700000</td>\n",
       "    </tr>\n",
       "    <tr>\n",
       "      <td>50%</td>\n",
       "      <td>2015.000000</td>\n",
       "      <td>2.400000</td>\n",
       "    </tr>\n",
       "    <tr>\n",
       "      <td>75%</td>\n",
       "      <td>2015.000000</td>\n",
       "      <td>2.900000</td>\n",
       "    </tr>\n",
       "    <tr>\n",
       "      <td>max</td>\n",
       "      <td>2016.000000</td>\n",
       "      <td>3.600000</td>\n",
       "    </tr>\n",
       "  </tbody>\n",
       "</table>\n",
       "</div>"
      ],
      "text/plain": [
       "              year    points\n",
       "count     5.000000  5.000000\n",
       "mean   2014.600000  2.420000\n",
       "std       1.140175  0.864292\n",
       "min    2013.000000  1.500000\n",
       "25%    2014.000000  1.700000\n",
       "50%    2015.000000  2.400000\n",
       "75%    2015.000000  2.900000\n",
       "max    2016.000000  3.600000"
      ]
     },
     "execution_count": 32,
     "metadata": {},
     "output_type": "execute_result"
    }
   ],
   "source": [
    "# describe() 함수는 DataFrame의 기초통계량 값을 보여준다.\n",
    "df2.describe()"
   ]
  },
  {
   "cell_type": "markdown",
   "metadata": {},
   "source": [
    "### 3. Dataframe indexing\n",
    "#### 3-1. DataFrame에서 열선택하고 수정하기"
   ]
  },
  {
   "cell_type": "code",
   "execution_count": 38,
   "metadata": {},
   "outputs": [
    {
     "name": "stdout",
     "output_type": "stream",
     "text": [
      "       year    names  points penalty\n",
      "one    2014    Kilho     1.5     NaN\n",
      "two    2015    Kilho     1.7     NaN\n",
      "three  2016    Kilho     3.6     NaN\n",
      "four   2015  Charles     2.4     NaN\n",
      "five   2016  Charles     2.9     NaN\n"
     ]
    }
   ],
   "source": [
    "data = {\"names\": [\"Kilho\", \"Kilho\", \"Kilho\", \"Charles\", \"Charles\"],\n",
    "           \"year\": [2014, 2015, 2016, 2015, 2016],\n",
    "           \"points\": [1.5, 1.7, 3.6, 2.4, 2.9]}\n",
    "df = pd.DataFrame(data, columns=[\"year\", \"names\", \"points\", \"penalty\"],\n",
    "                          index=[\"one\", \"two\", \"three\", \"four\", \"five\"])\n",
    "\n",
    "print(df)"
   ]
  },
  {
   "cell_type": "code",
   "execution_count": 40,
   "metadata": {},
   "outputs": [
    {
     "name": "stdout",
     "output_type": "stream",
     "text": [
      "one      2014\n",
      "two      2015\n",
      "three    2016\n",
      "four     2015\n",
      "five     2016\n",
      "Name: year, dtype: int64\n",
      "\n",
      "one      2014\n",
      "two      2015\n",
      "three    2016\n",
      "four     2015\n",
      "five     2016\n",
      "Name: year, dtype: int64\n"
     ]
    }
   ],
   "source": [
    "# year라는 컬럼 선택\n",
    "print(df['year'])\n",
    "print()\n",
    "#같은 값을 뽑아내는 다른 방법\n",
    "print(df.year)"
   ]
  },
  {
   "cell_type": "code",
   "execution_count": 41,
   "metadata": {},
   "outputs": [
    {
     "data": {
      "text/html": [
       "<div>\n",
       "<style scoped>\n",
       "    .dataframe tbody tr th:only-of-type {\n",
       "        vertical-align: middle;\n",
       "    }\n",
       "\n",
       "    .dataframe tbody tr th {\n",
       "        vertical-align: top;\n",
       "    }\n",
       "\n",
       "    .dataframe thead th {\n",
       "        text-align: right;\n",
       "    }\n",
       "</style>\n",
       "<table border=\"1\" class=\"dataframe\">\n",
       "  <thead>\n",
       "    <tr style=\"text-align: right;\">\n",
       "      <th></th>\n",
       "      <th>year</th>\n",
       "      <th>points</th>\n",
       "    </tr>\n",
       "  </thead>\n",
       "  <tbody>\n",
       "    <tr>\n",
       "      <td>one</td>\n",
       "      <td>2014</td>\n",
       "      <td>1.5</td>\n",
       "    </tr>\n",
       "    <tr>\n",
       "      <td>two</td>\n",
       "      <td>2015</td>\n",
       "      <td>1.7</td>\n",
       "    </tr>\n",
       "    <tr>\n",
       "      <td>three</td>\n",
       "      <td>2016</td>\n",
       "      <td>3.6</td>\n",
       "    </tr>\n",
       "    <tr>\n",
       "      <td>four</td>\n",
       "      <td>2015</td>\n",
       "      <td>2.4</td>\n",
       "    </tr>\n",
       "    <tr>\n",
       "      <td>five</td>\n",
       "      <td>2016</td>\n",
       "      <td>2.9</td>\n",
       "    </tr>\n",
       "  </tbody>\n",
       "</table>\n",
       "</div>"
      ],
      "text/plain": [
       "       year  points\n",
       "one    2014     1.5\n",
       "two    2015     1.7\n",
       "three  2016     3.6\n",
       "four   2015     2.4\n",
       "five   2016     2.9"
      ]
     },
     "execution_count": 41,
     "metadata": {},
     "output_type": "execute_result"
    }
   ],
   "source": [
    "#한번에 여러 컬럼은 선택하는 법\n",
    "print(df[['year','points']])"
   ]
  },
  {
   "cell_type": "code",
   "execution_count": 45,
   "metadata": {},
   "outputs": [
    {
     "name": "stdout",
     "output_type": "stream",
     "text": [
      "       year    names  points  penalty\n",
      "one    2014    Kilho     1.5      0.5\n",
      "two    2015    Kilho     1.7      0.5\n",
      "three  2016    Kilho     3.6      0.5\n",
      "four   2015  Charles     2.4      0.5\n",
      "five   2016  Charles     2.9      0.5\n",
      "\n",
      "       year    names  points  penalty\n",
      "one    2014    Kilho     1.5      0.1\n",
      "two    2015    Kilho     1.7      0.2\n",
      "three  2016    Kilho     3.6      0.3\n",
      "four   2015  Charles     2.4      0.4\n",
      "five   2016  Charles     2.9      0.5\n",
      "\n",
      "       year    names  points  penalty  zeros\n",
      "one    2014    Kilho     1.5      0.1      0\n",
      "two    2015    Kilho     1.7      0.2      1\n",
      "three  2016    Kilho     3.6      0.3      2\n",
      "four   2015  Charles     2.4      0.4      3\n",
      "five   2016  Charles     2.9      0.5      4\n"
     ]
    }
   ],
   "source": [
    "#한 컬럼을 특정 값으로 대체하는 방법\n",
    "df['penalty'] = 0.5\n",
    "print(df)\n",
    "print()\n",
    "\n",
    "#한 컬럼에 값을 대입하는 방법\n",
    "df['penalty'] = [0.1, 0.2, 0.3, 0.4, 0.5]\n",
    "print(df)\n",
    "print()\n",
    "\n",
    "#새로운 컬럼 추가하기\n",
    "df['zeros'] = np.arange(5)\n",
    "print(df)"
   ]
  },
  {
   "cell_type": "code",
   "execution_count": 46,
   "metadata": {},
   "outputs": [
    {
     "name": "stdout",
     "output_type": "stream",
     "text": [
      "       year    names  points  penalty  zeros  net_points\n",
      "one    2014    Kilho     1.5      0.1      0         1.4\n",
      "two    2015    Kilho     1.7      0.2      1         1.5\n",
      "three  2016    Kilho     3.6      0.3      2         3.3\n",
      "four   2015  Charles     2.4      0.4      3         2.0\n",
      "five   2016  Charles     2.9      0.5      4         2.4\n",
      "\n",
      "       year    names  points  penalty  zeros  net_points  high_points\n",
      "one    2014    Kilho     1.5      0.1      0         1.4        False\n",
      "two    2015    Kilho     1.7      0.2      1         1.5        False\n",
      "three  2016    Kilho     3.6      0.3      2         3.3         True\n",
      "four   2015  Charles     2.4      0.4      3         2.0        False\n",
      "five   2016  Charles     2.9      0.5      4         2.4         True\n",
      "\n"
     ]
    }
   ],
   "source": [
    "#기존의 컬럼값으로 새로운 컬럼의 생성\n",
    "df['net_points'] = df['points'] - df['penalty']\n",
    "print(df)\n",
    "print()\n",
    "\n",
    "#boolean 컬럼 생성\n",
    "df['high_points'] = df['net_points'] > 2.0\n",
    "print(df)\n",
    "print()\n"
   ]
  },
  {
   "cell_type": "code",
   "execution_count": 47,
   "metadata": {},
   "outputs": [
    {
     "name": "stdout",
     "output_type": "stream",
     "text": [
      "       year    names  points  penalty\n",
      "one    2014    Kilho     1.5      0.1\n",
      "two    2015    Kilho     1.7      0.2\n",
      "three  2016    Kilho     3.6      0.3\n",
      "four   2015  Charles     2.4      0.4\n",
      "five   2016  Charles     2.9      0.5\n",
      "\n"
     ]
    }
   ],
   "source": [
    "#열 삭제하기\n",
    "del df['high_points']\n",
    "del df['net_points']\n",
    "del df['zeros']\n",
    "\n",
    "print(df)\n",
    "print()"
   ]
  },
  {
   "cell_type": "markdown",
   "metadata": {},
   "source": [
    "#### 3-2. DataFrame에서 행을 선택하고 조작하기\n",
    "pandas에서는 DataFrame에서 행을 인덱싱하는 방법이 무수히 많다.  \n",
    "물론 위에서 소개했던 열을 선택하는 방법도 수많은 방법중에 하나에 불과하다.\n",
    "\n",
    "\n",
    "#### loc를 활용한 조작법"
   ]
  },
  {
   "cell_type": "code",
   "execution_count": 50,
   "metadata": {},
   "outputs": [
    {
     "name": "stdout",
     "output_type": "stream",
     "text": [
      "       year  names  points  penalty\n",
      "one    2014  Kilho     1.5      0.1\n",
      "two    2015  Kilho     1.7      0.2\n",
      "three  2016  Kilho     3.6      0.3\n",
      "\n",
      "year        2015\n",
      "names      Kilho\n",
      "points       1.7\n",
      "penalty      0.2\n",
      "Name: two, dtype: object\n",
      "\n",
      "       year    names  points  penalty\n",
      "two    2015    Kilho     1.7      0.2\n",
      "three  2016    Kilho     3.6      0.3\n",
      "four   2015  Charles     2.4      0.4\n",
      "\n",
      "one      2014\n",
      "two      2015\n",
      "three    2016\n",
      "four     2015\n",
      "five     2016\n",
      "Name: year, dtype: int64\n",
      "\n",
      "       year    names\n",
      "one    2014    Kilho\n",
      "two    2015    Kilho\n",
      "three  2016    Kilho\n",
      "four   2015  Charles\n",
      "five   2016  Charles\n",
      "\n",
      "       year    names  points  penalty\n",
      "three  2016    Kilho     3.6      0.3\n",
      "four   2015  Charles     2.4      0.4\n",
      "five   2016  Charles     2.9      0.5\n",
      "\n"
     ]
    }
   ],
   "source": [
    "# 0번째 부터 2(3-1) 번째까지 가져온다.\n",
    "# 뒤에 써준 숫자번째의 행은 뺀다.\n",
    "print(df[0:3])\n",
    "print()\n",
    "\n",
    "# .loc 또는 .iloc 함수를 사용하는 방법.\n",
    "print(df.loc['two'])\n",
    "print()\n",
    "\n",
    "print(df.loc['two':'four'])\n",
    "print()\n",
    "\n",
    "print(df.loc[:,'year'])\n",
    "print()\n",
    "\n",
    "print(df.loc[:,['year','names']])\n",
    "print()\n",
    "\n",
    "print(df.loc['three':'five','year':'penalty'])\n",
    "print()\n",
    "\n",
    "# 새로운 행 삽입\n",
    "df.loc['six',:] = [2013,'Jun',4.0,0.1,2.1]\n",
    "print(df)"
   ]
  },
  {
   "cell_type": "markdown",
   "metadata": {},
   "source": [
    "#### iloc를 활용한 조작법"
   ]
  },
  {
   "cell_type": "code",
   "execution_count": 52,
   "metadata": {},
   "outputs": [
    {
     "name": "stdout",
     "output_type": "stream",
     "text": [
      "year          2015\n",
      "names      Charles\n",
      "points         2.4\n",
      "penalty        0.4\n",
      "Name: four, dtype: object\n",
      "\n",
      "      year    names\n",
      "four  2015  Charles\n",
      "five  2016  Charles\n",
      "\n",
      "        names  points\n",
      "one     Kilho     1.5\n",
      "two     Kilho     1.7\n",
      "four  Charles     2.4\n",
      "\n",
      "         names  points  penalty\n",
      "one      Kilho     1.5      0.1\n",
      "two      Kilho     1.7      0.2\n",
      "three    Kilho     3.6      0.3\n",
      "four   Charles     2.4      0.4\n",
      "five   Charles     2.9      0.5\n"
     ]
    }
   ],
   "source": [
    "print(df.iloc[3])\n",
    "print()\n",
    "\n",
    "print(df.iloc[3:5, 0:2])\n",
    "print()\n",
    "\n",
    "print(df.iloc[[0,1,3], [1,2]])\n",
    "print()\n",
    "\n",
    "print(df.iloc[:,1:4])"
   ]
  },
  {
   "cell_type": "markdown",
   "metadata": {},
   "source": [
    "#### 3-3. Boolean indexing\n"
   ]
  },
  {
   "cell_type": "code",
   "execution_count": 60,
   "metadata": {},
   "outputs": [
    {
     "name": "stdout",
     "output_type": "stream",
     "text": [
      "       year    names  points penalty\n",
      "one    2014    Kilho     1.5     NaN\n",
      "two    2015    Kilho     1.7     NaN\n",
      "three  2016    Kilho     3.6     NaN\n",
      "four   2015  Charles     2.4     NaN\n",
      "five   2016  Charles     2.9     NaN\n",
      "\n",
      "       year    names  points penalty\n",
      "two    2015    Kilho     1.7     NaN\n",
      "three  2016    Kilho     3.6     NaN\n",
      "four   2015  Charles     2.4     NaN\n",
      "five   2016  Charles     2.9     NaN\n",
      "\n",
      "       names  points\n",
      "one    Kilho     1.5\n",
      "two    Kilho     1.7\n",
      "three  Kilho     3.6\n",
      "\n",
      "      year    names  points penalty\n",
      "four  2015  Charles     2.4     NaN\n",
      "five  2016  Charles     2.9     NaN\n",
      "\n",
      "       year    names  points penalty\n",
      "one    2014    Kilho     1.5     NaN\n",
      "two    2015    Kilho     1.7     NaN\n",
      "three  2016    Kilho     3.6       0\n",
      "four   2015  Charles     2.4     NaN\n",
      "five   2016  Charles     2.9     NaN\n"
     ]
    }
   ],
   "source": [
    "data = {\"names\": [\"Kilho\", \"Kilho\", \"Kilho\", \"Charles\", \"Charles\"],\n",
    "           \"year\": [2014, 2015, 2016, 2015, 2016],\n",
    "           \"points\": [1.5, 1.7, 3.6, 2.4, 2.9]}\n",
    "df = pd.DataFrame(data, columns=[\"year\", \"names\", \"points\", \"penalty\"],\n",
    "                          index=[\"one\", \"two\", \"three\", \"four\", \"five\"])\n",
    "\n",
    "print(df)\n",
    "print()\n",
    "\n",
    "# year가 2014보다 큰 모든 행의 값\n",
    "print(df.loc[df['year']>2014,:])\n",
    "print()\n",
    "\n",
    "print(df.loc[df['names'] == 'Kilho',['names','points']])\n",
    "print()\n",
    "\n",
    "#논리연산자 활용\n",
    "print(df.loc[(df['points']>2)&(df['points']<3),:])\n",
    "print()\n",
    "\n",
    "#새로운 값을 대입\n",
    "df.loc[df['points'] > 3, 'penalty'] = 0\n",
    "print(df)"
   ]
  },
  {
   "cell_type": "markdown",
   "metadata": {},
   "source": [
    "### 4. NaN 값의 처리\n",
    "DataFrame을 정의하면서, data로 들어가는 python dictionary와 columns의 순서가 달라도 알아서 맞춰서 정의된다.  \n",
    "하지만 data에 포함되어 있지 않은 값은 NaN(Not a Number)으로 나타나게 되는데,  이는 __null과 같은 개념__ 이다.  \n",
    "NaN값은 추후에 어떠한 방법으로도 처리가 되지 않는 데이터이다.  \n",
    "따라서 올바른 데이터 처리를 위해 \\*추가적으로 값\\*을 넣어줘야 한다.  \n"
   ]
  },
  {
   "cell_type": "code",
   "execution_count": 61,
   "metadata": {},
   "outputs": [
    {
     "name": "stdout",
     "output_type": "stream",
     "text": [
      "                   A         B         C         D    F\n",
      "2016-07-01 -1.249581 -1.476555  0.381929 -1.269941  1.0\n",
      "2016-07-02  0.885774  0.475795 -1.140601  0.258364  NaN\n",
      "2016-07-03  1.429792 -0.399389 -1.065372  1.175202  3.5\n",
      "2016-07-04  0.103539  1.680554 -1.037303 -0.465233  6.1\n",
      "2016-07-05 -0.821645 -1.356797 -2.030277 -0.782890  NaN\n",
      "2016-07-06  0.051526 -0.009317  1.274400  1.410809  7.0\n"
     ]
    }
   ],
   "source": [
    "df = pd.DataFrame(np.random.randn(6,4))\n",
    "df.columns = ['A', 'B', 'C', 'D']\n",
    "df.index = pd.date_range('20160701', periods=6)\n",
    "\n",
    "# np.nan은 NaN값을 의미한다.\n",
    "df['F'] = [1.0, np.nan, 3.5, 6.1, np.nan, 7.0]\n",
    "print(df)"
   ]
  },
  {
   "cell_type": "code",
   "execution_count": 62,
   "metadata": {},
   "outputs": [
    {
     "name": "stdout",
     "output_type": "stream",
     "text": [
      "                   A         B         C         D    F\n",
      "2016-07-01 -1.249581 -1.476555  0.381929 -1.269941  1.0\n",
      "2016-07-03  1.429792 -0.399389 -1.065372  1.175202  3.5\n",
      "2016-07-04  0.103539  1.680554 -1.037303 -0.465233  6.1\n",
      "2016-07-06  0.051526 -0.009317  1.274400  1.410809  7.0\n",
      "\n",
      "                   A         B         C         D    F\n",
      "2016-07-01 -1.249581 -1.476555  0.381929 -1.269941  1.0\n",
      "2016-07-02  0.885774  0.475795 -1.140601  0.258364  NaN\n",
      "2016-07-03  1.429792 -0.399389 -1.065372  1.175202  3.5\n",
      "2016-07-04  0.103539  1.680554 -1.037303 -0.465233  6.1\n",
      "2016-07-05 -0.821645 -1.356797 -2.030277 -0.782890  NaN\n",
      "2016-07-06  0.051526 -0.009317  1.274400  1.410809  7.0\n"
     ]
    }
   ],
   "source": [
    "# 행의 값중 하나라도 nan인 경우 그 행을 없앤다.\n",
    "print(df.dropna(how='any'))\n",
    "print()\n",
    "\n",
    "# 행의 값의 모든 값이 nan인 경우 그 행을 없앤다.\n",
    "print(df.dropna(how='all'))"
   ]
  },
  {
   "cell_type": "markdown",
   "metadata": {},
   "source": [
    "#### 주의  \n",
    "drop함수는 특정 행 또는 열을 drop하고난 DataFrame을 반환한다.  \n",
    "즉, 반환을 받지 않으면 기존의 DataFrame은 그대로이다.  \n",
    "아니면, inplace=True라는 인자를 추가하여, 반환을 받지 않고서도 기존의 DataFrame이 변경되도록 한다.\n"
   ]
  },
  {
   "cell_type": "code",
   "execution_count": 65,
   "metadata": {},
   "outputs": [
    {
     "name": "stdout",
     "output_type": "stream",
     "text": [
      "                A      B      C      D      F\n",
      "2016-07-01  False  False  False  False  False\n",
      "2016-07-02  False  False  False  False   True\n",
      "2016-07-03  False  False  False  False  False\n",
      "2016-07-04  False  False  False  False  False\n",
      "2016-07-05  False  False  False  False   True\n",
      "2016-07-06  False  False  False  False  False\n",
      "\n",
      "                   A         B         C         D       F\n",
      "2016-07-01 -1.249581 -1.476555  0.381929 -1.269941     1.0\n",
      "2016-07-02  0.885774  0.475795 -1.140601  0.258364  1000.0\n",
      "2016-07-03  1.429792 -0.399389 -1.065372  1.175202     3.5\n",
      "2016-07-04  0.103539  1.680554 -1.037303 -0.465233     6.1\n",
      "2016-07-05 -0.821645 -1.356797 -2.030277 -0.782890  1000.0\n",
      "2016-07-06  0.051526 -0.009317  1.274400  1.410809     7.0\n",
      "\n",
      "                   A         B         C         D   F\n",
      "2016-07-02  0.885774  0.475795 -1.140601  0.258364 NaN\n",
      "2016-07-05 -0.821645 -1.356797 -2.030277 -0.782890 NaN\n"
     ]
    }
   ],
   "source": [
    "# nan값인지 확인하기\n",
    "print(df.isnull())\n",
    "print()\n",
    "\n",
    "# nan값에 값 넣기\n",
    "print(df.fillna(value=1000))\n",
    "print()\n",
    "\n",
    "# F열에서 nan값을 포함하는 행만 추출하기\n",
    "print(df.loc[df.isnull()['F'],:])\n"
   ]
  },
  {
   "cell_type": "code",
   "execution_count": 66,
   "metadata": {},
   "outputs": [
    {
     "name": "stdout",
     "output_type": "stream",
     "text": [
      "                   A         B         C         D    F\n",
      "2016-07-02  0.885774  0.475795 -1.140601  0.258364  NaN\n",
      "2016-07-03  1.429792 -0.399389 -1.065372  1.175202  3.5\n",
      "2016-07-04  0.103539  1.680554 -1.037303 -0.465233  6.1\n",
      "2016-07-05 -0.821645 -1.356797 -2.030277 -0.782890  NaN\n",
      "2016-07-06  0.051526 -0.009317  1.274400  1.410809  7.0\n",
      "\n",
      "                   A         B         C         D\n",
      "2016-07-01 -1.249581 -1.476555  0.381929 -1.269941\n",
      "2016-07-02  0.885774  0.475795 -1.140601  0.258364\n",
      "2016-07-03  1.429792 -0.399389 -1.065372  1.175202\n",
      "2016-07-04  0.103539  1.680554 -1.037303 -0.465233\n",
      "2016-07-05 -0.821645 -1.356797 -2.030277 -0.782890\n",
      "2016-07-06  0.051526 -0.009317  1.274400  1.410809\n"
     ]
    }
   ],
   "source": [
    "# 특정 행 drop하기\n",
    "print(df.drop(pd.to_datetime('20160701')))\n",
    "print()\n",
    "\n",
    "# 특정 열 삭제하기\n",
    "print(df.drop('F', axis = 1))\n"
   ]
  },
  {
   "cell_type": "markdown",
   "metadata": {},
   "source": [
    "### 5. 기초통계량 계산함수\n",
    "\n",
    "#### pandas에서 DataFrame에 적용되는 함수들\n",
    "sum() 함수 이외에도 pandas에서 DataFrame에 적용되는 함수는 다음의 것들이 있다.  \n",
    "\n",
    "- count 전체 성분의 (NaN이 아닌) 값의 갯수를 계산\n",
    "- min, max 전체 성분의 최솟, 최댓값을 계산\n",
    "- argmin, argmax 전체 성분의 최솟값, 최댓값이 위치한 (정수)인덱스를 반환\n",
    "- idxmin, idxmax 전체 인덱스 중 최솟값, 최댓값을 반환\n",
    "- quantile 전체 성분의 특정 사분위수에 해당하는 값을 반환 (0~1 사이)\n",
    "- sum 전체 성분의 합을 계산\n",
    "- mean 전체 성분의 평균을 계산\n",
    "- median 전체 성분의 중간값을 반환\n",
    "- mad 전체 성분의 평균값으로부터의 절대 편차(absolute deviation)의 평균을 계산\n",
    "- std, var 전체 성분의 표준편차, 분산을 계산\n",
    "- cumsum 맨 첫 번째 성분부터 각 성분까지의 누적합을 계산 (0에서부터 계속 더해짐)\n",
    "- cumprod 맨 첫번째 성분부터 각 성분까지의 누적곱을 계산 (1에서부터 계속 곱해짐)\n"
   ]
  },
  {
   "cell_type": "code",
   "execution_count": 67,
   "metadata": {},
   "outputs": [
    {
     "name": "stdout",
     "output_type": "stream",
     "text": [
      "    one  two\n",
      "a  1.40  NaN\n",
      "b  7.10 -4.5\n",
      "c   NaN  NaN\n",
      "d  0.75 -1.3\n"
     ]
    }
   ],
   "source": [
    "data = [[1.4, np.nan],\n",
    "           [7.1, -4.5],\n",
    "        [np.nan, np.nan],\n",
    "        [0.75, -1.3]]\n",
    "df = pd.DataFrame(data, columns=[\"one\", \"two\"], index=[\"a\", \"b\", \"c\", \"d\"])\n",
    "print(df)"
   ]
  },
  {
   "cell_type": "code",
   "execution_count": 69,
   "metadata": {},
   "outputs": [
    {
     "name": "stdout",
     "output_type": "stream",
     "text": [
      "one    9.25\n",
      "two   -5.80\n",
      "dtype: float64\n",
      "\n",
      "a    1.40\n",
      "b    2.60\n",
      "c    0.00\n",
      "d   -0.55\n",
      "dtype: float64\n",
      "\n",
      "a     NaN\n",
      "b    2.60\n",
      "c     NaN\n",
      "d   -0.55\n",
      "dtype: float64\n",
      "\n",
      "9.25\n"
     ]
    }
   ],
   "source": [
    "# 행방향으로의 합(즉, 각 열의 합)\n",
    "print(df.sum(axis=0))\n",
    "print()\n",
    "\n",
    "# 열방향으로의 합(즉, 각 행의 합)\n",
    "print(df.sum(axis=1))\n",
    "print()\n",
    "\n",
    "print(df.sum(axis=1, skipna=False))\n",
    "print()\n",
    "\n",
    "# 특정 행 또는 특정 열에서만 계산하기\n",
    "print(df['one'].sum())"
   ]
  },
  {
   "cell_type": "code",
   "execution_count": 70,
   "metadata": {},
   "outputs": [
    {
     "name": "stdout",
     "output_type": "stream",
     "text": [
      "                   A         B         C         D\n",
      "2016-07-01  0.893298  0.346248  0.034775 -0.777409\n",
      "2016-07-02  1.633778 -0.439492  1.136540  1.243686\n",
      "2016-07-03  2.227631  0.168136 -1.663749 -2.769160\n",
      "2016-07-04  0.505680  0.307991 -0.724779 -0.989870\n",
      "2016-07-05  0.380868 -0.545718 -0.775533  3.318822\n",
      "2016-07-06  0.378744  0.272824  0.453741 -0.304547\n"
     ]
    }
   ],
   "source": [
    "df2 = pd.DataFrame(np.random.randn(6, 4),\n",
    "                   columns=[\"A\", \"B\", \"C\", \"D\"],\n",
    "                   index=pd.date_range(\"20160701\", periods=6))\n",
    "print(df2)"
   ]
  },
  {
   "cell_type": "code",
   "execution_count": 72,
   "metadata": {},
   "outputs": [
    {
     "name": "stdout",
     "output_type": "stream",
     "text": [
      "-0.06066718265979114\n",
      "\n",
      "-0.08303888752816795\n"
     ]
    }
   ],
   "source": [
    "# A열과 B열의 상관계수 구하기\n",
    "print(df2['A'].corr(df2['B']))\n",
    "print()\n",
    "\n",
    "# B열과 C열의 공분산 구하기\n",
    "print(df2['B'].cov(df2['C']))\n",
    "        "
   ]
  },
  {
   "cell_type": "markdown",
   "metadata": {},
   "source": [
    "### 6. 정렬함수"
   ]
  },
  {
   "cell_type": "code",
   "execution_count": 79,
   "metadata": {},
   "outputs": [
    {
     "name": "stdout",
     "output_type": "stream",
     "text": [
      "                   D         B         C         A\n",
      "2016-07-04 -0.989870  0.307991 -0.724779  0.505680\n",
      "2016-07-02  1.243686 -0.439492  1.136540  1.633778\n",
      "2016-07-05  3.318822 -0.545718 -0.775533  0.380868\n",
      "2016-07-03 -2.769160  0.168136 -1.663749  2.227631\n",
      "2016-07-06 -0.304547  0.272824  0.453741  0.378744\n",
      "2016-07-01 -0.777409  0.346248  0.034775  0.893298\n"
     ]
    }
   ],
   "source": [
    "dates = df2.index\n",
    "random_dates = np.random.permutation(dates)\n",
    "df2 = df2.reindex(index=random_dates, columns=[\"D\", \"B\", \"C\", \"A\"])\n",
    "\n",
    "print(df2)"
   ]
  },
  {
   "cell_type": "code",
   "execution_count": 81,
   "metadata": {},
   "outputs": [
    {
     "name": "stdout",
     "output_type": "stream",
     "text": [
      "                   D         B         C         A\n",
      "2016-07-01 -0.777409  0.346248  0.034775  0.893298\n",
      "2016-07-02  1.243686 -0.439492  1.136540  1.633778\n",
      "2016-07-03 -2.769160  0.168136 -1.663749  2.227631\n",
      "2016-07-04 -0.989870  0.307991 -0.724779  0.505680\n",
      "2016-07-05  3.318822 -0.545718 -0.775533  0.380868\n",
      "2016-07-06 -0.304547  0.272824  0.453741  0.378744\n",
      "\n",
      "                   A         B         C         D\n",
      "2016-07-04  0.505680  0.307991 -0.724779 -0.989870\n",
      "2016-07-02  1.633778 -0.439492  1.136540  1.243686\n",
      "2016-07-05  0.380868 -0.545718 -0.775533  3.318822\n",
      "2016-07-03  2.227631  0.168136 -1.663749 -2.769160\n",
      "2016-07-06  0.378744  0.272824  0.453741 -0.304547\n",
      "2016-07-01  0.893298  0.346248  0.034775 -0.777409\n",
      "                   D         C         B         A\n",
      "2016-07-04 -0.989870 -0.724779  0.307991  0.505680\n",
      "2016-07-02  1.243686  1.136540 -0.439492  1.633778\n",
      "2016-07-05  3.318822 -0.775533 -0.545718  0.380868\n",
      "2016-07-03 -2.769160 -1.663749  0.168136  2.227631\n",
      "2016-07-06 -0.304547  0.453741  0.272824  0.378744\n",
      "2016-07-01 -0.777409  0.034775  0.346248  0.893298\n"
     ]
    }
   ],
   "source": [
    "# index와 column의 순서가 섞여있다.\n",
    "# 이때 index가 오름차순이 되도록 정렬\n",
    "print(df2.sort_index(axis=0))\n",
    "print()\n",
    "\n",
    "# column을 기준으로 정렬\n",
    "print(df2.sort_index(axis=1))\n",
    "\n",
    "# 내림차순으로 정렬\n",
    "print(df2.sort_index(axis=1, ascending=False))\n"
   ]
  },
  {
   "cell_type": "code",
   "execution_count": 82,
   "metadata": {},
   "outputs": [
    {
     "name": "stdout",
     "output_type": "stream",
     "text": [
      "                   D         B         C         A  E      F\n",
      "2016-07-03 -2.769160  0.168136 -1.663749  2.227631  0  gamma\n",
      "2016-07-04 -0.989870  0.307991 -0.724779  0.505680  3  alpha\n",
      "2016-07-01 -0.777409  0.346248  0.034775  0.893298  5  gamma\n",
      "2016-07-06 -0.304547  0.272824  0.453741  0.378744  1  alpha\n",
      "2016-07-02  1.243686 -0.439492  1.136540  1.633778  4   beta\n",
      "2016-07-05  3.318822 -0.545718 -0.775533  0.380868  1  gamma\n",
      "\n",
      "                   D         B         C         A  E      F\n",
      "2016-07-01 -0.777409  0.346248  0.034775  0.893298  5  gamma\n",
      "2016-07-04 -0.989870  0.307991 -0.724779  0.505680  3  alpha\n",
      "2016-07-06 -0.304547  0.272824  0.453741  0.378744  1  alpha\n",
      "2016-07-03 -2.769160  0.168136 -1.663749  2.227631  0  gamma\n",
      "2016-07-02  1.243686 -0.439492  1.136540  1.633778  4   beta\n",
      "2016-07-05  3.318822 -0.545718 -0.775533  0.380868  1  gamma\n",
      "\n",
      "                   D         B         C         A  E      F\n",
      "2016-07-03 -2.769160  0.168136 -1.663749  2.227631  0  gamma\n",
      "2016-07-06 -0.304547  0.272824  0.453741  0.378744  1  alpha\n",
      "2016-07-05  3.318822 -0.545718 -0.775533  0.380868  1  gamma\n",
      "2016-07-04 -0.989870  0.307991 -0.724779  0.505680  3  alpha\n",
      "2016-07-02  1.243686 -0.439492  1.136540  1.633778  4   beta\n",
      "2016-07-01 -0.777409  0.346248  0.034775  0.893298  5  gamma\n"
     ]
    }
   ],
   "source": [
    "df2[\"E\"] = np.random.randint(0, 6, size=6)\n",
    "df2[\"F\"] = [\"alpha\", \"beta\", \"gamma\", \"gamma\", \"alpha\", \"gamma\"]\n",
    "\n",
    "\n",
    "# 값 기준 정렬하기\n",
    "# D열의 값이 오름차순이 되도록 정렬하기\n",
    "print(df2.sort_values(by='D'))\n",
    "print()\n",
    "\n",
    "# B열의 값이 내림차순이 되도록 정렬하기\n",
    "print(df2.sort_values(by='B', ascending=False))\n",
    "print()\n",
    "\n",
    "# E열과 F열을 동시에 고려하여, 오름차순으로 하려면?\n",
    "print(df2.sort_values(by=['E','F']))"
   ]
  },
  {
   "cell_type": "markdown",
   "metadata": {},
   "source": [
    "### 7. 기타함수"
   ]
  },
  {
   "cell_type": "code",
   "execution_count": 85,
   "metadata": {},
   "outputs": [
    {
     "name": "stdout",
     "output_type": "stream",
     "text": [
      "['alpha' 'beta' 'gamma']\n",
      "\n",
      "gamma    3\n",
      "alpha    2\n",
      "beta     1\n",
      "Name: F, dtype: int64\n",
      "\n",
      "2016-07-04     True\n",
      "2016-07-02     True\n",
      "2016-07-05    False\n",
      "2016-07-03    False\n",
      "2016-07-06     True\n",
      "2016-07-01    False\n",
      "Name: F, dtype: bool\n",
      "\n",
      "                   D         B         C         A  E      F\n",
      "2016-07-04 -0.989870  0.307991 -0.724779  0.505680  3  alpha\n",
      "2016-07-02  1.243686 -0.439492  1.136540  1.633778  4   beta\n",
      "2016-07-06 -0.304547  0.272824  0.453741  0.378744  1  alpha\n"
     ]
    }
   ],
   "source": [
    "# 지정한 행 또는 열에서 중복값을 제외한 유니크한 값만 얻기\n",
    "print(df2['F'].unique())\n",
    "print()\n",
    "\n",
    "# 지정한 행 또는 열에서 값에 따른 개수 얻기\n",
    "print(df2['F'].value_counts())\n",
    "print()\n",
    "\n",
    "# 지정한 행 또는 열에서 입력한 값이 있는지 확인하기\n",
    "print(df2['F'].isin(['alpha','beta']))\n",
    "print()\n",
    "\n",
    "# F열의 값이 alpha나 beta인 모든 행 구하기\n",
    "print(df2.loc[df2['F'].isin(['alpha','beta']),:])\n"
   ]
  },
  {
   "cell_type": "markdown",
   "metadata": {},
   "source": [
    "#### 사용자가 직접 만든 함수 적용하기\n"
   ]
  },
  {
   "cell_type": "code",
   "execution_count": 89,
   "metadata": {},
   "outputs": [
    {
     "name": "stdout",
     "output_type": "stream",
     "text": [
      "                b         d         e\n",
      "Seoul   -0.528309  2.158892 -1.146573\n",
      "Incheon -0.299555  0.904851 -1.166333\n",
      "Busan   -1.228021 -1.083243 -2.551926\n",
      "Daegu    0.970654  0.106577  0.936188\n",
      "\n",
      "b    2.198675\n",
      "d    3.242136\n",
      "e    3.488114\n",
      "dtype: float64\n"
     ]
    }
   ],
   "source": [
    "df3 = pd.DataFrame(np.random.randn(4, 3), columns=[\"b\", \"d\", \"e\"],\n",
    "                   index=[\"Seoul\", \"Incheon\", \"Busan\", \"Daegu\"])\n",
    "print(df3)\n",
    "print()\n",
    "\n",
    "func = lambda x: x.max() - x.min()\n",
    "\n",
    "print(df3.apply(func, axis=0))\n"
   ]
  },
  {
   "cell_type": "code",
   "execution_count": null,
   "metadata": {},
   "outputs": [],
   "source": []
  }
 ],
 "metadata": {
  "kernelspec": {
   "display_name": "torch",
   "language": "python",
   "name": "torch"
  },
  "language_info": {
   "codemirror_mode": {
    "name": "ipython",
    "version": 3
   },
   "file_extension": ".py",
   "mimetype": "text/x-python",
   "name": "python",
   "nbconvert_exporter": "python",
   "pygments_lexer": "ipython3",
   "version": "3.7.4"
  }
 },
 "nbformat": 4,
 "nbformat_minor": 4
}
