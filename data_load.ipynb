{
 "cells": [
  {
   "cell_type": "markdown",
   "metadata": {},
   "source": [
    "### file Read"
   ]
  },
  {
   "cell_type": "code",
   "execution_count": 11,
   "metadata": {},
   "outputs": [
    {
     "name": "stdout",
     "output_type": "stream",
     "text": [
      "1번줄, 데이터마이닝 예제입니다.\n",
      "\n",
      "['2번줄, 데이터마이닝 예제입니다.\\n', '3번줄, 데이터마이닝 예제입니다.\\n']\n"
     ]
    }
   ],
   "source": [
    "f = open(\"./exam.txt\", 'r', encoding='utf-8')\n",
    "print(f.readline())\n",
    "print(f.readlines())\n",
    "f.close()"
   ]
  },
  {
   "cell_type": "markdown",
   "metadata": {},
   "source": [
    "### file Write"
   ]
  },
  {
   "cell_type": "code",
   "execution_count": 12,
   "metadata": {},
   "outputs": [],
   "source": [
    "f = open(\"./newfile.txt\", 'w', encoding='utf-8')\n",
    "for i in range(1, 11):\n",
    "    data = \"%d번째 줄입니다.\\n\" % i\n",
    "    f.write(data)\n",
    "f.close()"
   ]
  },
  {
   "cell_type": "code",
   "execution_count": 13,
   "metadata": {},
   "outputs": [
    {
     "name": "stdout",
     "output_type": "stream",
     "text": [
      "1번째 줄입니다.\n",
      "\n",
      "['2번째 줄입니다.\\n', '3번째 줄입니다.\\n', '4번째 줄입니다.\\n', '5번째 줄입니다.\\n', '6번째 줄입니다.\\n', '7번째 줄입니다.\\n', '8번째 줄입니다.\\n', '9번째 줄입니다.\\n', '10번째 줄입니다.\\n']\n"
     ]
    }
   ],
   "source": [
    "f = open(\"./newfile.txt\", 'r', encoding='utf-8')\n",
    "print(f.readline())\n",
    "print(f.readlines())\n",
    "f.close()"
   ]
  },
  {
   "cell_type": "markdown",
   "metadata": {},
   "source": [
    "## with문과 함께 사용하기"
   ]
  },
  {
   "cell_type": "code",
   "execution_count": 14,
   "metadata": {},
   "outputs": [],
   "source": [
    "with open(\"foo.txt\", \"w\") as f:\n",
    "    f.write(\"Life is too short, you need python\")"
   ]
  },
  {
   "cell_type": "code",
   "execution_count": 16,
   "metadata": {},
   "outputs": [
    {
     "name": "stdout",
     "output_type": "stream",
     "text": [
      "Life is too short, you need python\n"
     ]
    }
   ],
   "source": [
    "with open(\"foo.txt\", \"r\") as f:\n",
    "    data = f.readline()\n",
    "    print(data)"
   ]
  },
  {
   "cell_type": "code",
   "execution_count": null,
   "metadata": {},
   "outputs": [],
   "source": []
  },
  {
   "cell_type": "markdown",
   "metadata": {},
   "source": [
    "#### Pandas는 데이터 파일을 읽어 데이터프레임을 만들 수 있다. 다음처럼 여러가지 포맷을 지원한다.\n",
    "\n",
    "- CSV\n",
    "- Excel\n",
    "- HTML\n",
    "- JSON\n",
    "- HDF5\n",
    "- SAS\n",
    "- STATA\n",
    "- SQL"
   ]
  },
  {
   "cell_type": "code",
   "execution_count": null,
   "metadata": {},
   "outputs": [],
   "source": []
  },
  {
   "cell_type": "markdown",
   "metadata": {},
   "source": [
    "### Read csv"
   ]
  },
  {
   "cell_type": "code",
   "execution_count": 8,
   "metadata": {},
   "outputs": [
    {
     "name": "stdout",
     "output_type": "stream",
     "text": [
      "   c1    c2     c3\n",
      "0   1  1.11    one\n",
      "1   2  2.22    two\n",
      "2   3  3.33  three\n"
     ]
    }
   ],
   "source": [
    "df1 = pd.read_csv('./dataset/sample1.csv')\n",
    "print(df1)"
   ]
  },
  {
   "cell_type": "code",
   "execution_count": 11,
   "metadata": {},
   "outputs": [
    {
     "name": "stdout",
     "output_type": "stream",
     "text": [
      "   c1    c2     c3\n",
      "0   1  1.11    one\n",
      "1   2  2.22    two\n",
      "2   3  3.33  three\n",
      "   h1    h2     h3\n",
      "0  c1    c2     c3\n",
      "1   1  1.11    one\n",
      "2   2  2.22    two\n",
      "3   3  3.33  three\n"
     ]
    }
   ],
   "source": [
    "df1 = pd.read_csv('./dataset/sample1.csv',header=0)\n",
    "print(df1)\n",
    "\n",
    "df1 = pd.read_csv('./dataset/sample1.csv', names=['h1', 'h2', 'h3'])\n",
    "print(df1)"
   ]
  },
  {
   "cell_type": "markdown",
   "metadata": {},
   "source": [
    "### read table"
   ]
  },
  {
   "cell_type": "code",
   "execution_count": 14,
   "metadata": {},
   "outputs": [
    {
     "name": "stdout",
     "output_type": "stream",
     "text": [
      "   c1    c2     c3\n",
      "0   1  1.11    one\n",
      "1   2  2.22    two\n",
      "2   3  3.33  three\n",
      "   c1    c2     c3\n",
      "0   1  1.11    one\n",
      "1   2  2.22    two\n",
      "2   3  3.33  three\n"
     ]
    }
   ],
   "source": [
    "#정해진 구분기호에 의해 값이 나누어지는 경우\n",
    "df1 = pd.read_table('./dataset/sample1.csv', sep=',')\n",
    "print(df1)\n",
    "df2 = pd.read_table('./dataset/sample2.txt', sep='\\t')\n",
    "print(df2)"
   ]
  },
  {
   "cell_type": "code",
   "execution_count": null,
   "metadata": {},
   "outputs": [],
   "source": [
    "#정해지지 않은 공백의 경우\n",
    "df2 = pd.read_table('./dataset/sample2.txt', sep='\\s+')\n",
    "print(df2)"
   ]
  },
  {
   "cell_type": "code",
   "execution_count": null,
   "metadata": {},
   "outputs": [],
   "source": []
  },
  {
   "cell_type": "markdown",
   "metadata": {},
   "source": [
    "### Read Excel"
   ]
  },
  {
   "cell_type": "code",
   "execution_count": 3,
   "metadata": {},
   "outputs": [
    {
     "name": "stdout",
     "output_type": "stream",
     "text": [
      "   empID    empName empRole\n",
      "0      1     Pankaj     CEO\n",
      "1      2  David Lee  Editor\n",
      "2      3   Lisa Ray  Author\n"
     ]
    }
   ],
   "source": [
    "import pandas as pd\n",
    "\n",
    "excel_data_df = pd.read_excel('./dataset/records.xlsx', sheet_name='Employees')\n",
    "\n",
    "# print whole sheet data\n",
    "print(excel_data_df)"
   ]
  },
  {
   "cell_type": "code",
   "execution_count": 6,
   "metadata": {},
   "outputs": [
    {
     "name": "stdout",
     "output_type": "stream",
     "text": [
      "          carName  carPrice\n",
      "0      Honda city     20000\n",
      "1  Bugatti Chiron     30000\n",
      "2     Ferrari 458     40000\n"
     ]
    }
   ],
   "source": [
    "excel_data_df = pd.read_excel('./dataset/records.xlsx', sheet_name='Cars', usecols=['carName', 'carPrice'])\n",
    "print(excel_data_df)"
   ]
  },
  {
   "cell_type": "code",
   "execution_count": null,
   "metadata": {},
   "outputs": [],
   "source": []
  },
  {
   "cell_type": "markdown",
   "metadata": {},
   "source": [
    "### pandas를 활용한 파일의 출력\n",
    "#### pd.to_csv"
   ]
  },
  {
   "cell_type": "code",
   "execution_count": 17,
   "metadata": {},
   "outputs": [],
   "source": [
    "df2 = pd.read_table('./dataset/sample2.txt', sep='\\t')\n",
    "df = df2\n",
    "df.to_csv('./dataset/outcsv1.csv')"
   ]
  },
  {
   "cell_type": "code",
   "execution_count": 18,
   "metadata": {},
   "outputs": [
    {
     "name": "stdout",
     "output_type": "stream",
     "text": [
      "   Unnamed: 0  c1    c2     c3\n",
      "0           0   1  1.11    one\n",
      "1           1   2  2.22    two\n",
      "2           2   3  3.33  three\n"
     ]
    }
   ],
   "source": [
    "#저장한 파일을 읽어 확인하기\n",
    "print(pd.read_csv('./dataset/outcsv1.csv'))"
   ]
  },
  {
   "cell_type": "code",
   "execution_count": null,
   "metadata": {},
   "outputs": [],
   "source": []
  },
  {
   "cell_type": "code",
   "execution_count": null,
   "metadata": {},
   "outputs": [],
   "source": []
  },
  {
   "cell_type": "code",
   "execution_count": null,
   "metadata": {},
   "outputs": [],
   "source": []
  }
 ],
 "metadata": {
  "kernelspec": {
   "display_name": "torch",
   "language": "python",
   "name": "torch"
  },
  "language_info": {
   "codemirror_mode": {
    "name": "ipython",
    "version": 3
   },
   "file_extension": ".py",
   "mimetype": "text/x-python",
   "name": "python",
   "nbconvert_exporter": "python",
   "pygments_lexer": "ipython3",
   "version": "3.7.4"
  }
 },
 "nbformat": 4,
 "nbformat_minor": 4
}
