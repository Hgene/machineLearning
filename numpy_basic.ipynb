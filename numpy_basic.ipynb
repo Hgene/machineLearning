{
 "cells": [
  {
   "cell_type": "code",
   "execution_count": 1,
   "metadata": {},
   "outputs": [],
   "source": [
    "import numpy as np"
   ]
  },
  {
   "cell_type": "code",
   "execution_count": 5,
   "metadata": {},
   "outputs": [
    {
     "name": "stdout",
     "output_type": "stream",
     "text": [
      "[1 2 3 4 5]\n",
      "(5,)\n",
      "int32\n",
      "[1 2 3 4 5]\n",
      "(5,)\n",
      "int32\n",
      "[1. 2. 3. 4. 5.]\n",
      "(5,)\n",
      "float64\n",
      "[[ 1  2  3]\n",
      " [ 4  5  6]\n",
      " [ 7  8  9]\n",
      " [10 11 12]]\n",
      "(4, 3)\n",
      "int32\n"
     ]
    }
   ],
   "source": [
    "data1 = [1,2,3,4,5]\n",
    "\n",
    "\n",
    "arr1 = np.array(data1)\n",
    "print(arr1)\n",
    "print(arr1.shape)\n",
    "print(arr1.dtype)\n",
    "\n",
    "arr1 = np.array([1,2,3,4,5])\n",
    "print(arr1)\n",
    "print(arr1.shape)\n",
    "print(arr1.dtype)\n",
    "\n",
    "arr1 = np.array([1.0,2.0,3.0,4.0,5.0])\n",
    "print(arr1)\n",
    "print(arr1.shape)\n",
    "print(arr1.dtype)\n",
    "\n",
    "arr2 = np.array([[1,2,3],[4,5,6],[7,8,9],[10,11,12]])\n",
    "print(arr2)\n",
    "print(arr2.shape)\n",
    "print(arr2.dtype)"
   ]
  },
  {
   "cell_type": "markdown",
   "metadata": {},
   "source": [
    "__numpy shape__  \n",
    "numpy에서는 해당 array의 크기를 알 수 있다.\n",
    "shape 을 확인함으로써 몇개의 데이터가 있는지, 몇 차원으로 존재하는지 등을 확인할 수 있다.\n",
    "위에서 arr1.shape의 결과는 (5,) 으로써, 1차원의 데이터이며 총 5라는 크기를 갖고 있음을 알 수 있다.\n",
    "arr1.shape의 결과는 (4,3) 으로써, 2차원의 데이터이며 4 * 3 크기를 갖고 있는 array 이다.  \n",
    "\n",
    "\n",
    "__numpy 자료형__\n",
    "첫번재나 두번째 arr1는 int32라는 자료형을 갖는 것에 반해 세번째 arr1는 float64라는 자료형을 갖는다.\n",
    "이는 내부 데이터를 살펴보면 __3.0 5.0 이라는 실수형 데이터__ 를 갖기 때문임을 알 수 있다.\n",
    "numpy에서 사용되는 자료형은 아래와 같다. (자료형 뒤에 붙는 숫자는 몇 비트 크기인지를 의미한다.)\n",
    "\n",
    "- 부호가 있는 정수 int(8, 16, 32, 64)\n",
    "- 부호가 없는 정수 uint(8 ,16, 32, 54)\n",
    "- 실수 float(16, 32, 64, 128)\n",
    "- 복소수 complex(64, 128, 256)\n",
    "- 불리언 bool\n",
    "- 문자열 string_\n",
    "- 파이썬 오프젝트 object\n",
    "- 유니코드 unicode_\n"
   ]
  },
  {
   "cell_type": "markdown",
   "metadata": {},
   "source": [
    "## 관련함수들  \n",
    "\n",
    "### 1. numpy정의하기, np.zeros(), np.ones(), np.arange() 함수\n"
   ]
  },
  {
   "cell_type": "code",
   "execution_count": 6,
   "metadata": {},
   "outputs": [
    {
     "name": "stdout",
     "output_type": "stream",
     "text": [
      "[0. 0. 0. 0. 0. 0. 0. 0. 0. 0.]\n",
      "[[0. 0. 0. 0. 0.]\n",
      " [0. 0. 0. 0. 0.]\n",
      " [0. 0. 0. 0. 0.]]\n"
     ]
    }
   ],
   "source": [
    "print(np.zeros(10))\n",
    "print(np.zeros((3,5)))"
   ]
  },
  {
   "cell_type": "code",
   "execution_count": 7,
   "metadata": {},
   "outputs": [
    {
     "name": "stdout",
     "output_type": "stream",
     "text": [
      "[1. 1. 1. 1. 1. 1. 1. 1. 1. 1.]\n",
      "[[1. 1. 1. 1. 1.]\n",
      " [1. 1. 1. 1. 1.]\n",
      " [1. 1. 1. 1. 1.]]\n"
     ]
    }
   ],
   "source": [
    "print(np.ones(10))\n",
    "print(np.ones((3,5)))"
   ]
  },
  {
   "cell_type": "code",
   "execution_count": 9,
   "metadata": {},
   "outputs": [
    {
     "name": "stdout",
     "output_type": "stream",
     "text": [
      "[0 1 2 3 4 5 6 7 8 9]\n",
      "[3 4]\n"
     ]
    }
   ],
   "source": [
    "print(np.arange(10))\n",
    "print(np.arange(3,5))"
   ]
  },
  {
   "cell_type": "markdown",
   "metadata": {},
   "source": [
    "### 2. Array 간 연산\n",
    "#### 2-1. 크기가 같은 Array 간의 연산\n",
    "\n",
    "- 기본적으로 numpy에서 연산을 할때는 크기가 서로 동일한 array 끼리 연산이 진행된다. 이때 같은 위치에 있는 요소들끼리 연산(element-wise operation)이 진행된다."
   ]
  },
  {
   "cell_type": "code",
   "execution_count": 10,
   "metadata": {},
   "outputs": [
    {
     "name": "stdout",
     "output_type": "stream",
     "text": [
      "[[11 13 15]\n",
      " [17 19 21]]\n",
      "[[-9 -9 -9]\n",
      " [-9 -9 -9]]\n",
      "[[10 22 36]\n",
      " [52 70 90]]\n",
      "[[0.1        0.18181818 0.25      ]\n",
      " [0.30769231 0.35714286 0.4       ]]\n"
     ]
    }
   ],
   "source": [
    "arr1 = np.array([[1,2,3],[4,5,6]])\n",
    "arr2 = np.array([[10,11,12],[13,14,15]])\n",
    "\n",
    "print(arr1 + arr2)\n",
    "print(arr1 - arr2)\n",
    "print(arr1 * arr2)\n",
    "print(arr1 / arr2)"
   ]
  },
  {
   "cell_type": "markdown",
   "metadata": {},
   "source": [
    "#### 2-2. 크기가 다른 Array 간의 연산\n",
    "\n",
    "- array의 브로드 캐스트\n",
    "위에서는 array가 같은 크기를 가져야 서로 연산이 가능하다고 했지만, numpy에서는 브로드캐스트라는 기능을 제공한다.  \n",
    "브로드캐스트란, 서로 크기가 다른 array가 연산이 가능하게끔 하는 것이다.\n"
   ]
  },
  {
   "cell_type": "code",
   "execution_count": 14,
   "metadata": {},
   "outputs": [
    {
     "name": "stdout",
     "output_type": "stream",
     "text": [
      "[[1 2 3]\n",
      " [4 5 6]]\n",
      "[10 11 12]\n",
      "\n",
      "[[11 13 15]\n",
      " [14 16 18]]\n",
      "\n",
      "[[ 2  4  6]\n",
      " [ 8 10 12]]\n"
     ]
    }
   ],
   "source": [
    "arr1 = np.array([[1,2,3],[4,5,6]])\n",
    "arr3 = np.array([10,11,12])\n",
    "\n",
    "print(arr1)\n",
    "print(arr3)\n",
    "print()\n",
    "print(arr1 + arr3)\n",
    "print()\n",
    "print(arr1 * 2)"
   ]
  },
  {
   "cell_type": "markdown",
   "metadata": {},
   "source": [
    "### 3. Array의 인덱싱\n",
    "numpy에서 사용되는 인덱싱은 기본적으로 python 인덱싱과 동일하다.  \n",
    "이때, python에서와 같이 1번째로 시작하는 것이 아니라 0번째로 시작하는 것에 주의한다.\n"
   ]
  },
  {
   "cell_type": "code",
   "execution_count": 15,
   "metadata": {},
   "outputs": [
    {
     "name": "stdout",
     "output_type": "stream",
     "text": [
      "0\n",
      "[3 4 5 6 7 8]\n",
      "[0 1 2 3 4 5 6 7 8 9]\n"
     ]
    }
   ],
   "source": [
    "arr1 = np.arange(10)\n",
    "\n",
    "print(arr1[0])\n",
    "print(arr1[3:9])\n",
    "print(arr1[:])"
   ]
  },
  {
   "cell_type": "code",
   "execution_count": 16,
   "metadata": {},
   "outputs": [
    {
     "name": "stdout",
     "output_type": "stream",
     "text": [
      "1\n",
      "[ 9 10 11 12]\n",
      "[ 4  8 12]\n"
     ]
    }
   ],
   "source": [
    "arr2 = np.array([[1,2,3,4],\n",
    "                 [5,6,7,8],\n",
    "                 [9,10,11,12]])\n",
    "\n",
    "#원소 하나꺼내기\n",
    "print(arr2[0,0])\n",
    "\n",
    "#2행의 모든 요소 꺼내기\n",
    "print(arr2[2,:])\n",
    "\n",
    "#3열의 모든 요소 꺼내기\n",
    "print(arr2[:,3])"
   ]
  },
  {
   "cell_type": "markdown",
   "metadata": {},
   "source": [
    "#### 3.1 Array Boolean 인덱싱(마스크)\n",
    "\n",
    "위에서 이용한 다차원의 인덱싱을 응용하여 boolean 인덱싱을 할 수 있다.  \n",
    "해당 기능은 주로 마스크라고 이야기하는데, boolean인덱싱을 통해 만들어낸 array를 통해 우리가 원하는 행 또는 열의 값만 뽑아낼 수 있다.  \n",
    "즉, 마스크처럼 우리가 가리고 싶은 부분은 가리고, 원하는 요소만 꺼낼 수 있다.  \n"
   ]
  },
  {
   "cell_type": "code",
   "execution_count": 24,
   "metadata": {},
   "outputs": [
    {
     "name": "stdout",
     "output_type": "stream",
     "text": [
      "(8,)\n",
      "(8, 4)\n",
      "[[-0.67215689  0.52413212 -0.66999699  0.49413172]\n",
      " [-0.55670206 -1.42098796  0.87207391  0.03984537]\n",
      " [-0.01370611  0.52074088  1.14740194 -0.63319189]\n",
      " [-0.74340928 -1.76600995  0.30630915  0.46822736]\n",
      " [-2.01310794 -0.04752401  1.21307918  1.30480317]\n",
      " [ 0.24956996 -0.42261799  1.29965414  0.54059366]\n",
      " [ 0.33427878 -1.29681638 -1.43521647 -0.00686931]\n",
      " [ 1.47396096 -1.31194472  0.17735138 -0.40103197]]\n",
      "\n",
      "[ True  True False False False  True False  True]\n",
      "[[-0.67215689  0.52413212 -0.66999699  0.49413172]\n",
      " [-0.55670206 -1.42098796  0.87207391  0.03984537]\n",
      " [ 0.24956996 -0.42261799  1.29965414  0.54059366]\n",
      " [ 1.47396096 -1.31194472  0.17735138 -0.40103197]]\n",
      "\n",
      "[[-0.01370611  0.52074088  1.14740194 -0.63319189]]\n"
     ]
    }
   ],
   "source": [
    "names = np.array(['Beomwoo','Beomwoo','Kim','Joan','Lee','Beomwoo','Park','Beomwoo'])\n",
    "print(names.shape)\n",
    "\n",
    "data = np.random.randn(8,4)\n",
    "print(data.shape)\n",
    "print(data)\n",
    "print()\n",
    "\n",
    "Beomwoo_mask = (names == 'Beomwoo')\n",
    "print(Beomwoo_mask)\n",
    "print(data[Beomwoo_mask,:])\n",
    "print()\n",
    "print(data[names == 'Kim',:])\n"
   ]
  },
  {
   "cell_type": "code",
   "execution_count": 26,
   "metadata": {},
   "outputs": [
    {
     "name": "stdout",
     "output_type": "stream",
     "text": [
      "\n",
      "[[-0.01370611  0.52074088  0.          0.        ]\n",
      " [ 0.33427878 -1.29681638 -1.43521647 -0.00686931]]\n",
      "\n",
      "[[-0.67215689  0.52413212  0.          0.        ]\n",
      " [-0.55670206 -1.42098796  0.          0.        ]\n",
      " [-0.01370611  0.52074088  0.          0.        ]\n",
      " [-0.74340928 -1.76600995  0.          0.        ]\n",
      " [-2.01310794 -0.04752401  0.          0.        ]]\n",
      "\n",
      "[[0. 0.]\n",
      " [0. 0.]\n",
      " [0. 0.]\n",
      " [0. 0.]\n",
      " [0. 0.]]\n",
      "\n",
      "[[-0.67215689  0.52413212  0.          0.        ]\n",
      " [-0.55670206 -1.42098796  0.          0.        ]\n",
      " [-0.01370611  0.52074088  0.          0.        ]\n",
      " [-0.74340928 -1.76600995  0.          0.        ]\n",
      " [-2.01310794 -0.04752401  0.          0.        ]\n",
      " [ 0.24956996 -0.42261799  1.29965414  0.54059366]\n",
      " [ 0.33427878 -1.29681638 -1.43521647 -0.00686931]\n",
      " [ 1.47396096 -1.31194472  0.17735138 -0.40103197]]\n"
     ]
    }
   ],
   "source": [
    "# 논리 연산을 응용하여, 요소가 Kim 또는 Park인 행의 데이터만 꺼내기\n",
    "print()\n",
    "print(data[(names == 'Kim') | (names == 'Park'),:])\n",
    "\n",
    "\n",
    "# 위에서 만든 마스크를 이용하여 0번째 열의 값이 0보다 작은 행을 구한다.\n",
    "print()\n",
    "print(data[data[:,0]<0,:])\n",
    "\n",
    "# 0번째 열의 값이 0보다 작은 행의 2,3번째 열 값\n",
    "print()\n",
    "print(data[data[:,0]<0,2:4])\n",
    "\n",
    "data[data[:,0]<0,2:4] = 0\n",
    "print()\n",
    "print(data)"
   ]
  },
  {
   "cell_type": "markdown",
   "metadata": {},
   "source": [
    "### 4. Numpy 함수\n",
    "\n",
    "#### 4-1. 하나의 array에 적용되는 함수\n"
   ]
  },
  {
   "cell_type": "code",
   "execution_count": 29,
   "metadata": {},
   "outputs": [
    {
     "name": "stdout",
     "output_type": "stream",
     "text": [
      "[[1.21991695 1.1709667  0.47398415]\n",
      " [1.41422578 0.199344   0.71305801]\n",
      " [0.46942977 0.13088613 0.28344904]\n",
      " [0.51071172 0.71385086 0.7667436 ]\n",
      " [0.59606311 1.19398866 1.05423689]]\n",
      "\n",
      "[[1.10449851 1.08211215        nan]\n",
      " [       nan        nan 0.84442762]\n",
      " [       nan        nan        nan]\n",
      " [0.71464097 0.84489695        nan]\n",
      " [       nan 1.09269788 1.02676039]]\n",
      "\n",
      "[[1.48819736 1.37116301 0.22466098]\n",
      " [2.00003456 0.03973803 0.50845173]\n",
      " [0.22036431 0.01713118 0.08034336]\n",
      " [0.26082646 0.50958304 0.58789575]\n",
      " [0.35529123 1.42560891 1.11141543]]\n",
      "\n",
      "[[3.38690643 3.22510884 0.62251712]\n",
      " [0.24311376 0.81926802 2.04022075]\n",
      " [0.62535877 0.87731767 0.7531815 ]\n",
      " [1.66647683 2.04183897 0.46452328]\n",
      " [0.55097651 3.30021843 2.86978437]]\n",
      "\n",
      "[[ 0.19878278  0.15782965         nan]\n",
      " [        nan         nan -0.3381925 ]\n",
      " [        nan         nan         nan]\n",
      " [-0.67195001 -0.33708122         nan]\n",
      " [        nan  0.17729952  0.05281718]]\n",
      "[[ 0.08633027  0.06854454         nan]\n",
      " [        nan         nan -0.14687514]\n",
      " [        nan         nan         nan]\n",
      " [-0.29182418 -0.14639252         nan]\n",
      " [        nan  0.0770002   0.02293821]]\n",
      "[[ 0.28678293  0.22770005         nan]\n",
      " [        nan         nan -0.48790864]\n",
      " [        nan         nan         nan]\n",
      " [-0.96941894 -0.48630541         nan]\n",
      " [        nan  0.25578913  0.07619909]]\n"
     ]
    },
    {
     "name": "stderr",
     "output_type": "stream",
     "text": [
      "C:\\Users\\Gene\\Anaconda3\\envs\\torch\\lib\\site-packages\\ipykernel_launcher.py:8: RuntimeWarning: invalid value encountered in sqrt\n",
      "  \n",
      "C:\\Users\\Gene\\Anaconda3\\envs\\torch\\lib\\site-packages\\ipykernel_launcher.py:20: RuntimeWarning: invalid value encountered in log\n",
      "C:\\Users\\Gene\\Anaconda3\\envs\\torch\\lib\\site-packages\\ipykernel_launcher.py:21: RuntimeWarning: invalid value encountered in log10\n",
      "C:\\Users\\Gene\\Anaconda3\\envs\\torch\\lib\\site-packages\\ipykernel_launcher.py:22: RuntimeWarning: invalid value encountered in log2\n"
     ]
    }
   ],
   "source": [
    "arr1 = np.random.randn(5,3)\n",
    "\n",
    "# 각 성분의 절대값 계산하기\n",
    "print(np.abs(arr1))\n",
    "print()\n",
    "\n",
    "# 각 성분의 제곱근 계산하기 ( == array ** 0.5)\n",
    "print(np.sqrt(arr1))\n",
    "print()\n",
    "\n",
    "# 각 성분의 제곱 계산하기\n",
    "print(np.square(arr1))\n",
    "print()\n",
    "\n",
    "# 각 성분을 무리수 e의 지수로 삼은 값을 계산하기\n",
    "print(np.exp(arr1))\n",
    "print()\n",
    "\n",
    "# 각 성분을 자연로그, 상용로그, 밑이 2인 로그를 씌운 값을 계산하기\n",
    "print(np.log(arr1))\n",
    "print(np.log10(arr1))\n",
    "print(np.log2(arr1))\n"
   ]
  },
  {
   "cell_type": "code",
   "execution_count": 30,
   "metadata": {},
   "outputs": [
    {
     "name": "stdout",
     "output_type": "stream",
     "text": [
      "[[ 1.  1. -1.]\n",
      " [-1. -1.  1.]\n",
      " [-1. -1. -1.]\n",
      " [ 1.  1. -1.]\n",
      " [-1.  1.  1.]]\n",
      "\n",
      "[[ 2.  2. -0.]\n",
      " [-1. -0.  1.]\n",
      " [-0. -0. -0.]\n",
      " [ 1.  1. -0.]\n",
      " [-0.  2.  2.]]\n",
      "\n",
      "[[ 1.  1. -1.]\n",
      " [-2. -1.  0.]\n",
      " [-1. -1. -1.]\n",
      " [ 0.  0. -1.]\n",
      " [-1.  1.  1.]]\n",
      "\n",
      "[[False False False]\n",
      " [False False False]\n",
      " [False False False]\n",
      " [False False False]\n",
      " [False False False]]\n",
      "\n",
      "[[False False  True]\n",
      " [ True  True False]\n",
      " [ True  True  True]\n",
      " [False False  True]\n",
      " [ True False False]]\n",
      "\n",
      "[[False False False]\n",
      " [False False False]\n",
      " [False False False]\n",
      " [False False False]\n",
      " [False False False]]\n",
      "[[ 0.83962968  0.82458182 -0.44141281]\n",
      " [-0.88838814 -0.19674479  0.61259085]\n",
      " [-0.43773846 -0.1301438  -0.27609424]\n",
      " [ 0.47049955  0.61308593 -0.64503192]\n",
      " [-0.53424224  0.83181181  0.78344812]]\n"
     ]
    },
    {
     "name": "stderr",
     "output_type": "stream",
     "text": [
      "C:\\Users\\Gene\\Anaconda3\\envs\\torch\\lib\\site-packages\\ipykernel_launcher.py:17: RuntimeWarning: invalid value encountered in log\n"
     ]
    }
   ],
   "source": [
    "# 각 성분의 부호 계산하기(+인 경우 1, -인 경우 -1, 0인 경우 0)\n",
    "print(np.sign(arr1))\n",
    "print()\n",
    "\n",
    "# 각 성분의 소수 첫 번째 자리에서 올림한 값을 계산하기\n",
    "print(np.ceil(arr1))\n",
    "print()\n",
    "\n",
    "# 각 성분의 소수 첫 번째 자리에서 내림한 값을 계산하기\n",
    "print(np.floor(arr1))\n",
    "print()\n",
    "\n",
    "# 각 성분이 NaN인 경우 True를, 아닌 경우 False를 반환하기\n",
    "print(np.isnan(arr1))\n",
    "print()\n",
    "\n",
    "print(np.isnan(np.log(arr1)))\n",
    "print()\n",
    "\n",
    "# 각 성분이 무한대인 경우 True를, 아닌 경우 False를 반환하기\n",
    "print(np.isinf(arr1))\n",
    "print()\n",
    "print(np.tanh(arr1))\n"
   ]
  },
  {
   "cell_type": "markdown",
   "metadata": {},
   "source": [
    "#### 4-2. 두 개의 array에 적용되는 함수"
   ]
  },
  {
   "cell_type": "code",
   "execution_count": 37,
   "metadata": {},
   "outputs": [
    {
     "name": "stdout",
     "output_type": "stream",
     "text": [
      "[[-0.577139   -0.49969064 -0.37993755]\n",
      " [-0.44003049  0.37499784  0.26138632]\n",
      " [-1.0336614   0.88722714  0.79108543]\n",
      " [ 1.15426937 -0.25679784 -0.72186218]\n",
      " [ 0.30560964 -0.58329677 -0.60258169]]\n",
      "\n",
      "[[-0.07374794  1.84732943  1.78143016]\n",
      " [-0.82619579  0.11033179 -0.33125243]\n",
      " [ 0.6548585  -1.13841305  0.06764712]\n",
      " [-1.21319128  0.36324536 -0.88980688]\n",
      " [ 0.27302698  0.91835122  0.36475196]]\n"
     ]
    }
   ],
   "source": [
    "arr1 = np.random.randn(5,3)\n",
    "arr2 = np.random.randn(5,3)\n",
    "\n",
    "print(arr1)\n",
    "print()\n",
    "print(arr2)"
   ]
  },
  {
   "cell_type": "code",
   "execution_count": 38,
   "metadata": {},
   "outputs": [
    {
     "name": "stdout",
     "output_type": "stream",
     "text": [
      "[[ 0.04256281 -0.92309322 -0.67683221]\n",
      " [ 0.36355134  0.04137418 -0.08658485]\n",
      " [-0.67690195 -1.01003096  0.05351465]\n",
      " [-1.40034952 -0.09328062  0.64231793]\n",
      " [ 0.08343968 -0.5356713  -0.21979285]]\n",
      "\n",
      "[[-0.07374794  1.84732943  1.78143016]\n",
      " [-0.44003049  0.37499784  0.26138632]\n",
      " [ 0.6548585   0.88722714  0.79108543]\n",
      " [ 1.15426937  0.36324536 -0.72186218]\n",
      " [ 0.30560964  0.91835122  0.36475196]]\n",
      "\n",
      "[[-0.577139   -0.49969064 -0.37993755]\n",
      " [-0.82619579  0.11033179 -0.33125243]\n",
      " [-1.0336614  -1.13841305  0.06764712]\n",
      " [-1.21319128 -0.25679784 -0.88980688]\n",
      " [ 0.27302698 -0.58329677 -0.60258169]]\n"
     ]
    }
   ],
   "source": [
    "# 두 개의 array에 대해 동일한 위치의 성분끼리 연산 값을 계산하기(add, subtract, multiply, divide)\n",
    "print(np.multiply(arr1,arr2))\n",
    "print()\n",
    "\n",
    "# 두 개의 array에 대해 동일한 위치의 성분끼리 비교하여 최대값 또는 최소값 계산하기(maximum, minimum)\n",
    "print(np.maximum(arr1,arr2))\n",
    "print()\n",
    "\n",
    "# 두 개의 array에 대해 동일한 위치의 성분끼리 비교하여 최대값 또는 최소값 계산하기(maximum, minimum)\n",
    "print(np.minimum(arr1,arr2))\n"
   ]
  },
  {
   "cell_type": "markdown",
   "metadata": {},
   "source": [
    "#### 4-3. 기초통계량 계산함수\n",
    "통계 함수를 통해 array의 합이나 평균등을 구할 수 있고, axis라는 인자값으로 열 또는 행의 기초통계량 값을 구할 수 있다."
   ]
  },
  {
   "cell_type": "code",
   "execution_count": 40,
   "metadata": {},
   "outputs": [
    {
     "name": "stdout",
     "output_type": "stream",
     "text": [
      "[[-0.577139   -0.49969064 -0.37993755]\n",
      " [-0.44003049  0.37499784  0.26138632]\n",
      " [-1.0336614   0.88722714  0.79108543]\n",
      " [ 1.15426937 -0.25679784 -0.72186218]\n",
      " [ 0.30560964 -0.58329677 -0.60258169]]\n",
      "-1.3204218092260305\n",
      "[-1.45676719  0.19635368  0.64465117  0.17560935 -0.88026882]\n",
      "[-0.59095188 -0.07756026 -0.65190967]\n"
     ]
    }
   ],
   "source": [
    "print(arr1)\n",
    "\n",
    "# 전체 성분의 합을 계산\n",
    "print(np.sum(arr1))\n",
    "\n",
    "# 열 간의 합을 계산\n",
    "print(np.sum(arr1, axis=1))\n",
    "\n",
    "# 행 간의 합을 계산\n",
    "print(np.sum(arr1, axis=0))\n"
   ]
  },
  {
   "cell_type": "code",
   "execution_count": 41,
   "metadata": {},
   "outputs": [
    {
     "name": "stdout",
     "output_type": "stream",
     "text": [
      "[[-0.577139   -0.49969064 -0.37993755]\n",
      " [-0.44003049  0.37499784  0.26138632]\n",
      " [-1.0336614   0.88722714  0.79108543]\n",
      " [ 1.15426937 -0.25679784 -0.72186218]\n",
      " [ 0.30560964 -0.58329677 -0.60258169]]\n",
      "-0.08802812061506869\n",
      "[-0.11819038 -0.01551205 -0.13038193]\n",
      "[-0.48558906  0.06545123  0.21488372  0.05853645 -0.29342294]\n"
     ]
    }
   ],
   "source": [
    "print(arr1)\n",
    "\n",
    "# 전체 성분의 평균을 계산\n",
    "print(np.mean(arr1))\n",
    "\n",
    "# 행 간의 평균을 계산\n",
    "print(np.mean(arr1, axis=0))\n",
    "\n",
    "# 열 간의 평균을 계산\n",
    "print(np.mean(arr1, axis=1))"
   ]
  },
  {
   "cell_type": "code",
   "execution_count": 49,
   "metadata": {},
   "outputs": [
    {
     "name": "stdout",
     "output_type": "stream",
     "text": [
      "[[-0.577139   -0.49969064 -0.37993755]\n",
      " [-0.44003049  0.37499784  0.26138632]\n",
      " [-1.0336614   0.88722714  0.79108543]\n",
      " [ 1.15426937 -0.25679784 -0.72186218]\n",
      " [ 0.30560964 -0.58329677 -0.60258169]]\n",
      "0.6434811820662267\n",
      "0.4140680316733485\n",
      "\n",
      "-1.0336613979620732\n",
      "[-0.577139   -0.44003049 -1.0336614  -0.72186218 -0.60258169]\n",
      "[0 0 0 2 2]\n",
      "\n",
      "1.1542693653888547\n",
      "[-0.37993755  0.37499784  0.88722714  1.15426937  0.30560964]\n",
      "[2 1 1 0 0]\n"
     ]
    }
   ],
   "source": [
    "print(arr1)\n",
    "\n",
    "# 전체 성분의 표준편차, 분산, 최소값, 최대값 계산(std, var, min, max)\n",
    "print(np.std(arr1))\n",
    "print(np.var(arr1))\n",
    "print()\n",
    "\n",
    "#전체/열별 최솟값 산출\n",
    "print(np.min(arr1))\n",
    "print(np.min(arr1, axis=1))\n",
    "print(np.argmin(arr1, axis=1))\n",
    "print()\n",
    "\n",
    "#전체/열별 최댓값 산출\n",
    "print(np.max(arr1))\n",
    "print(np.max(arr1, axis=1))\n",
    "print(np.argmax(arr1, axis=1))"
   ]
  },
  {
   "cell_type": "code",
   "execution_count": 54,
   "metadata": {},
   "outputs": [
    {
     "name": "stdout",
     "output_type": "stream",
     "text": [
      "[-0.577139   -1.07682964 -1.45676719 -1.89679768 -1.52179983 -1.26041351\n",
      " -2.29407491 -1.40684777 -0.61576234  0.53850702  0.28170918 -0.44015299\n",
      " -0.13454335 -0.71784012 -1.32042181]\n",
      "[-5.77139002e-01  2.88390956e-01 -1.09570553e-01  4.82143839e-02\n",
      "  1.80802900e-02  4.72594046e-03 -4.88502222e-03 -4.33412431e-03\n",
      " -3.42866258e-03 -3.95760018e-03  1.01630317e-03 -7.33630819e-04\n",
      " -2.24204650e-04  1.30777848e-04 -7.88043362e-05]\n",
      "\n",
      "[[-0.577139   -1.07682964 -1.45676719]\n",
      " [-0.44003049 -0.06503264  0.19635368]\n",
      " [-1.0336614  -0.14643426  0.64465117]\n",
      " [ 1.15426937  0.89747153  0.17560935]\n",
      " [ 0.30560964 -0.27768713 -0.88026882]]\n",
      "[[-0.577139    0.28839096 -0.10957055]\n",
      " [-0.44003049 -0.16501048 -0.04313148]\n",
      " [-1.0336614  -0.91709245 -0.72549847]\n",
      " [ 1.15426937 -0.29641388  0.21396997]\n",
      " [ 0.30560964 -0.17826112  0.10741688]]\n"
     ]
    }
   ],
   "source": [
    "# 처음 성분부터 각 성분까지의 누적합을 계산\n",
    "print(np.cumsum(arr1))\n",
    "# 처음 성분부터 각 성분까지의 누적곱 계산\n",
    "print(np.cumprod(arr1))\n",
    "print()\n",
    "\n",
    "print(np.cumsum(arr1,axis=1))\n",
    "print(np.cumprod(arr1,axis=1))\n"
   ]
  },
  {
   "cell_type": "markdown",
   "metadata": {},
   "source": [
    "#### 4-4. 정렬"
   ]
  },
  {
   "cell_type": "code",
   "execution_count": 73,
   "metadata": {},
   "outputs": [
    {
     "name": "stdout",
     "output_type": "stream",
     "text": [
      "[[ 1.24146341 -0.47670403]\n",
      " [ 0.31042226  1.35226698]\n",
      " [ 0.15357104 -0.22960201]]\n",
      "\n",
      "[[-0.47670403  1.24146341]\n",
      " [ 0.31042226  1.35226698]\n",
      " [-0.22960201  0.15357104]]\n",
      "\n",
      "[[-0.22960201  0.15357104]\n",
      " [ 0.31042226  1.35226698]\n",
      " [-0.47670403  1.24146341]]\n",
      "\n",
      "[[ 0.15357104 -0.47670403]\n",
      " [ 0.31042226 -0.22960201]\n",
      " [ 1.24146341  1.35226698]]\n",
      "\n",
      "[[ 1.24146341  1.35226698]\n",
      " [ 0.31042226 -0.22960201]\n",
      " [ 0.15357104 -0.47670403]]\n"
     ]
    }
   ],
   "source": [
    "arr1 = np.random.randn(3,2)\n",
    "print(arr1)\n",
    "print()\n",
    "\n",
    "# 각 행의 열 성분에 대해서 오름차순으로 정렬\n",
    "print(np.sort(arr1))\n",
    "print()\n",
    "\n",
    "# 각 행의 열 성분에 대해서 내림차순으로 정렬\n",
    "print(np.sort(arr1)[::-1])\n",
    "print()\n",
    "\n",
    "# 각 열의 행 성분에 대해서 오름차순으로 정렬\n",
    "print(np.sort(arr1,axis=0))\n",
    "print()\n",
    "\n",
    "# 각 열의 행 성분에 대해서 내림차순으로 정렬\n",
    "print(np.sort(arr1,axis=0)[::-1])"
   ]
  }
 ],
 "metadata": {
  "kernelspec": {
   "display_name": "torch",
   "language": "python",
   "name": "torch"
  },
  "language_info": {
   "codemirror_mode": {
    "name": "ipython",
    "version": 3
   },
   "file_extension": ".py",
   "mimetype": "text/x-python",
   "name": "python",
   "nbconvert_exporter": "python",
   "pygments_lexer": "ipython3",
   "version": "3.7.4"
  }
 },
 "nbformat": 4,
 "nbformat_minor": 4
}
